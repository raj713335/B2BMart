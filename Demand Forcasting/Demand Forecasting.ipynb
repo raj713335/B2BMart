{
 "cells": [
  {
   "cell_type": "markdown",
   "id": "1a2343af",
   "metadata": {
    "papermill": {
     "duration": 0.009709,
     "end_time": "2024-06-15T07:27:33.672933",
     "exception": false,
     "start_time": "2024-06-15T07:27:33.663224",
     "status": "completed"
    },
    "tags": []
   },
   "source": [
    "# **Importing Packages**"
   ]
  },
  {
   "cell_type": "code",
   "execution_count": 1,
   "id": "35b7bd4f",
   "metadata": {
    "execution": {
     "iopub.execute_input": "2024-06-15T07:27:33.693438Z",
     "iopub.status.busy": "2024-06-15T07:27:33.693008Z",
     "iopub.status.idle": "2024-06-15T07:27:35.515457Z",
     "shell.execute_reply": "2024-06-15T07:27:35.514593Z"
    },
    "papermill": {
     "duration": 1.835505,
     "end_time": "2024-06-15T07:27:35.517906",
     "exception": false,
     "start_time": "2024-06-15T07:27:33.682401",
     "status": "completed"
    },
    "tags": []
   },
   "outputs": [],
   "source": [
    "import numpy as np\n",
    "import pandas as pd\n",
    "import matplotlib.pyplot as plt\n",
    "import seaborn as sns"
   ]
  },
  {
   "cell_type": "markdown",
   "id": "c7f52c51",
   "metadata": {
    "papermill": {
     "duration": 0.009093,
     "end_time": "2024-06-15T07:27:35.536912",
     "exception": false,
     "start_time": "2024-06-15T07:27:35.527819",
     "status": "completed"
    },
    "tags": []
   },
   "source": [
    "# **Importing the Dataset**"
   ]
  },
  {
   "cell_type": "code",
   "execution_count": 2,
   "id": "b0ca6a64",
   "metadata": {
    "execution": {
     "iopub.execute_input": "2024-06-15T07:27:35.557405Z",
     "iopub.status.busy": "2024-06-15T07:27:35.556517Z",
     "iopub.status.idle": "2024-06-15T07:27:36.442763Z",
     "shell.execute_reply": "2024-06-15T07:27:36.441693Z"
    },
    "papermill": {
     "duration": 0.899125,
     "end_time": "2024-06-15T07:27:36.445280",
     "exception": false,
     "start_time": "2024-06-15T07:27:35.546155",
     "status": "completed"
    },
    "tags": []
   },
   "outputs": [],
   "source": [
    "df = pd.read_csv(\"/kaggle/input/walmart-sales-dataset/walmart.csv\")"
   ]
  },
  {
   "cell_type": "code",
   "execution_count": 3,
   "id": "a823b881",
   "metadata": {
    "execution": {
     "iopub.execute_input": "2024-06-15T07:27:36.465953Z",
     "iopub.status.busy": "2024-06-15T07:27:36.465587Z",
     "iopub.status.idle": "2024-06-15T07:27:36.488781Z",
     "shell.execute_reply": "2024-06-15T07:27:36.487740Z"
    },
    "papermill": {
     "duration": 0.036287,
     "end_time": "2024-06-15T07:27:36.490953",
     "exception": false,
     "start_time": "2024-06-15T07:27:36.454666",
     "status": "completed"
    },
    "tags": []
   },
   "outputs": [
    {
     "data": {
      "text/html": [
       "<div>\n",
       "<style scoped>\n",
       "    .dataframe tbody tr th:only-of-type {\n",
       "        vertical-align: middle;\n",
       "    }\n",
       "\n",
       "    .dataframe tbody tr th {\n",
       "        vertical-align: top;\n",
       "    }\n",
       "\n",
       "    .dataframe thead th {\n",
       "        text-align: right;\n",
       "    }\n",
       "</style>\n",
       "<table border=\"1\" class=\"dataframe\">\n",
       "  <thead>\n",
       "    <tr style=\"text-align: right;\">\n",
       "      <th></th>\n",
       "      <th>User_ID</th>\n",
       "      <th>Product_ID</th>\n",
       "      <th>Gender</th>\n",
       "      <th>Age</th>\n",
       "      <th>Occupation</th>\n",
       "      <th>City_Category</th>\n",
       "      <th>Stay_In_Current_City_Years</th>\n",
       "      <th>Marital_Status</th>\n",
       "      <th>Product_Category</th>\n",
       "      <th>Purchase</th>\n",
       "    </tr>\n",
       "  </thead>\n",
       "  <tbody>\n",
       "    <tr>\n",
       "      <th>0</th>\n",
       "      <td>1000001</td>\n",
       "      <td>P00069042</td>\n",
       "      <td>F</td>\n",
       "      <td>0-17</td>\n",
       "      <td>10</td>\n",
       "      <td>A</td>\n",
       "      <td>2</td>\n",
       "      <td>0</td>\n",
       "      <td>3</td>\n",
       "      <td>8370</td>\n",
       "    </tr>\n",
       "    <tr>\n",
       "      <th>1</th>\n",
       "      <td>1000001</td>\n",
       "      <td>P00248942</td>\n",
       "      <td>F</td>\n",
       "      <td>0-17</td>\n",
       "      <td>10</td>\n",
       "      <td>A</td>\n",
       "      <td>2</td>\n",
       "      <td>0</td>\n",
       "      <td>1</td>\n",
       "      <td>15200</td>\n",
       "    </tr>\n",
       "    <tr>\n",
       "      <th>2</th>\n",
       "      <td>1000001</td>\n",
       "      <td>P00087842</td>\n",
       "      <td>F</td>\n",
       "      <td>0-17</td>\n",
       "      <td>10</td>\n",
       "      <td>A</td>\n",
       "      <td>2</td>\n",
       "      <td>0</td>\n",
       "      <td>12</td>\n",
       "      <td>1422</td>\n",
       "    </tr>\n",
       "    <tr>\n",
       "      <th>3</th>\n",
       "      <td>1000001</td>\n",
       "      <td>P00085442</td>\n",
       "      <td>F</td>\n",
       "      <td>0-17</td>\n",
       "      <td>10</td>\n",
       "      <td>A</td>\n",
       "      <td>2</td>\n",
       "      <td>0</td>\n",
       "      <td>12</td>\n",
       "      <td>1057</td>\n",
       "    </tr>\n",
       "    <tr>\n",
       "      <th>4</th>\n",
       "      <td>1000002</td>\n",
       "      <td>P00285442</td>\n",
       "      <td>M</td>\n",
       "      <td>55+</td>\n",
       "      <td>16</td>\n",
       "      <td>C</td>\n",
       "      <td>4+</td>\n",
       "      <td>0</td>\n",
       "      <td>8</td>\n",
       "      <td>7969</td>\n",
       "    </tr>\n",
       "    <tr>\n",
       "      <th>5</th>\n",
       "      <td>1000003</td>\n",
       "      <td>P00193542</td>\n",
       "      <td>M</td>\n",
       "      <td>26-35</td>\n",
       "      <td>15</td>\n",
       "      <td>A</td>\n",
       "      <td>3</td>\n",
       "      <td>0</td>\n",
       "      <td>1</td>\n",
       "      <td>15227</td>\n",
       "    </tr>\n",
       "    <tr>\n",
       "      <th>6</th>\n",
       "      <td>1000004</td>\n",
       "      <td>P00184942</td>\n",
       "      <td>M</td>\n",
       "      <td>46-50</td>\n",
       "      <td>7</td>\n",
       "      <td>B</td>\n",
       "      <td>2</td>\n",
       "      <td>1</td>\n",
       "      <td>1</td>\n",
       "      <td>19215</td>\n",
       "    </tr>\n",
       "    <tr>\n",
       "      <th>7</th>\n",
       "      <td>1000004</td>\n",
       "      <td>P00346142</td>\n",
       "      <td>M</td>\n",
       "      <td>46-50</td>\n",
       "      <td>7</td>\n",
       "      <td>B</td>\n",
       "      <td>2</td>\n",
       "      <td>1</td>\n",
       "      <td>1</td>\n",
       "      <td>15854</td>\n",
       "    </tr>\n",
       "    <tr>\n",
       "      <th>8</th>\n",
       "      <td>1000004</td>\n",
       "      <td>P0097242</td>\n",
       "      <td>M</td>\n",
       "      <td>46-50</td>\n",
       "      <td>7</td>\n",
       "      <td>B</td>\n",
       "      <td>2</td>\n",
       "      <td>1</td>\n",
       "      <td>1</td>\n",
       "      <td>15686</td>\n",
       "    </tr>\n",
       "    <tr>\n",
       "      <th>9</th>\n",
       "      <td>1000005</td>\n",
       "      <td>P00274942</td>\n",
       "      <td>M</td>\n",
       "      <td>26-35</td>\n",
       "      <td>20</td>\n",
       "      <td>A</td>\n",
       "      <td>1</td>\n",
       "      <td>1</td>\n",
       "      <td>8</td>\n",
       "      <td>7871</td>\n",
       "    </tr>\n",
       "  </tbody>\n",
       "</table>\n",
       "</div>"
      ],
      "text/plain": [
       "   User_ID Product_ID Gender    Age  Occupation City_Category  \\\n",
       "0  1000001  P00069042      F   0-17          10             A   \n",
       "1  1000001  P00248942      F   0-17          10             A   \n",
       "2  1000001  P00087842      F   0-17          10             A   \n",
       "3  1000001  P00085442      F   0-17          10             A   \n",
       "4  1000002  P00285442      M    55+          16             C   \n",
       "5  1000003  P00193542      M  26-35          15             A   \n",
       "6  1000004  P00184942      M  46-50           7             B   \n",
       "7  1000004  P00346142      M  46-50           7             B   \n",
       "8  1000004   P0097242      M  46-50           7             B   \n",
       "9  1000005  P00274942      M  26-35          20             A   \n",
       "\n",
       "  Stay_In_Current_City_Years  Marital_Status  Product_Category  Purchase  \n",
       "0                          2               0                 3      8370  \n",
       "1                          2               0                 1     15200  \n",
       "2                          2               0                12      1422  \n",
       "3                          2               0                12      1057  \n",
       "4                         4+               0                 8      7969  \n",
       "5                          3               0                 1     15227  \n",
       "6                          2               1                 1     19215  \n",
       "7                          2               1                 1     15854  \n",
       "8                          2               1                 1     15686  \n",
       "9                          1               1                 8      7871  "
      ]
     },
     "execution_count": 3,
     "metadata": {},
     "output_type": "execute_result"
    }
   ],
   "source": [
    "df.head(10)"
   ]
  },
  {
   "cell_type": "code",
   "execution_count": 4,
   "id": "9db63f23",
   "metadata": {
    "execution": {
     "iopub.execute_input": "2024-06-15T07:27:36.511663Z",
     "iopub.status.busy": "2024-06-15T07:27:36.511335Z",
     "iopub.status.idle": "2024-06-15T07:27:36.658739Z",
     "shell.execute_reply": "2024-06-15T07:27:36.657732Z"
    },
    "papermill": {
     "duration": 0.160633,
     "end_time": "2024-06-15T07:27:36.661185",
     "exception": false,
     "start_time": "2024-06-15T07:27:36.500552",
     "status": "completed"
    },
    "tags": []
   },
   "outputs": [
    {
     "name": "stdout",
     "output_type": "stream",
     "text": [
      "<class 'pandas.core.frame.DataFrame'>\n",
      "RangeIndex: 550068 entries, 0 to 550067\n",
      "Data columns (total 10 columns):\n",
      " #   Column                      Non-Null Count   Dtype \n",
      "---  ------                      --------------   ----- \n",
      " 0   User_ID                     550068 non-null  int64 \n",
      " 1   Product_ID                  550068 non-null  object\n",
      " 2   Gender                      550068 non-null  object\n",
      " 3   Age                         550068 non-null  object\n",
      " 4   Occupation                  550068 non-null  int64 \n",
      " 5   City_Category               550068 non-null  object\n",
      " 6   Stay_In_Current_City_Years  550068 non-null  object\n",
      " 7   Marital_Status              550068 non-null  int64 \n",
      " 8   Product_Category            550068 non-null  int64 \n",
      " 9   Purchase                    550068 non-null  int64 \n",
      "dtypes: int64(5), object(5)\n",
      "memory usage: 42.0+ MB\n"
     ]
    }
   ],
   "source": [
    "df.info()"
   ]
  },
  {
   "cell_type": "code",
   "execution_count": 5,
   "id": "e80bd905",
   "metadata": {
    "execution": {
     "iopub.execute_input": "2024-06-15T07:27:36.682047Z",
     "iopub.status.busy": "2024-06-15T07:27:36.681699Z",
     "iopub.status.idle": "2024-06-15T07:27:36.814363Z",
     "shell.execute_reply": "2024-06-15T07:27:36.813442Z"
    },
    "papermill": {
     "duration": 0.145424,
     "end_time": "2024-06-15T07:27:36.816375",
     "exception": false,
     "start_time": "2024-06-15T07:27:36.670951",
     "status": "completed"
    },
    "tags": []
   },
   "outputs": [
    {
     "data": {
      "text/plain": [
       "User_ID                       0\n",
       "Product_ID                    0\n",
       "Gender                        0\n",
       "Age                           0\n",
       "Occupation                    0\n",
       "City_Category                 0\n",
       "Stay_In_Current_City_Years    0\n",
       "Marital_Status                0\n",
       "Product_Category              0\n",
       "Purchase                      0\n",
       "dtype: int64"
      ]
     },
     "execution_count": 5,
     "metadata": {},
     "output_type": "execute_result"
    }
   ],
   "source": [
    "df.isnull().sum()"
   ]
  },
  {
   "cell_type": "code",
   "execution_count": 6,
   "id": "4dcc39f2",
   "metadata": {
    "execution": {
     "iopub.execute_input": "2024-06-15T07:27:36.837158Z",
     "iopub.status.busy": "2024-06-15T07:27:36.836803Z",
     "iopub.status.idle": "2024-06-15T07:27:36.842678Z",
     "shell.execute_reply": "2024-06-15T07:27:36.841800Z"
    },
    "papermill": {
     "duration": 0.018581,
     "end_time": "2024-06-15T07:27:36.844638",
     "exception": false,
     "start_time": "2024-06-15T07:27:36.826057",
     "status": "completed"
    },
    "tags": []
   },
   "outputs": [
    {
     "data": {
      "text/plain": [
       "(550068, 10)"
      ]
     },
     "execution_count": 6,
     "metadata": {},
     "output_type": "execute_result"
    }
   ],
   "source": [
    "df.shape"
   ]
  },
  {
   "cell_type": "markdown",
   "id": "d0fa8171",
   "metadata": {
    "papermill": {
     "duration": 0.009563,
     "end_time": "2024-06-15T07:27:36.864032",
     "exception": false,
     "start_time": "2024-06-15T07:27:36.854469",
     "status": "completed"
    },
    "tags": []
   },
   "source": [
    "# **Exploratory Data Analysis**"
   ]
  },
  {
   "cell_type": "code",
   "execution_count": 7,
   "id": "d75f13b8",
   "metadata": {
    "execution": {
     "iopub.execute_input": "2024-06-15T07:27:36.885292Z",
     "iopub.status.busy": "2024-06-15T07:27:36.884588Z",
     "iopub.status.idle": "2024-06-15T07:27:37.618131Z",
     "shell.execute_reply": "2024-06-15T07:27:37.617147Z"
    },
    "papermill": {
     "duration": 0.746556,
     "end_time": "2024-06-15T07:27:37.620241",
     "exception": false,
     "start_time": "2024-06-15T07:27:36.873685",
     "status": "completed"
    },
    "tags": []
   },
   "outputs": [
    {
     "data": {
      "image/png": "[encoded data removed]",
      "text/plain": [
       "<Figure size 800x600 with 1 Axes>"
      ]
     },
     "metadata": {},
     "output_type": "display_data"
    }
   ],
   "source": [
    "import matplotlib.patches as mpatches\n",
    "\n",
    "# Gender Distribution\n",
    "plt.figure(figsize=(8, 6))\n",
    "ax = sns.countplot(x='Gender', data=df, palette='icefire')\n",
    "\n",
    "# Calculate percentages\n",
    "total = len(df['Gender'])\n",
    "for p in ax.patches:\n",
    "    percentage = f'{100 * p.get_height() / total:.1f}%'\n",
    "    x = p.get_x() + p.get_width() / 2\n",
    "    y = p.get_height()\n",
    "    ax.annotate(percentage, (x, y), ha='center', va='bottom')\n",
    "\n",
    "# Setting title and labels\n",
    "ax.set_title('Gender Distribution')\n",
    "ax.set_xlabel('Gender')\n",
    "ax.set_ylabel('Count')\n",
    "\n",
    "# Creating legend\n",
    "colors = [p.get_facecolor() for p in ax.patches]\n",
    "gender_groups = df['Gender'].unique()\n",
    "gender_groups.sort()\n",
    "patches = [mpatches.Patch(color=colors[i], label=age_group) for i, age_group in enumerate(gender_groups)]\n",
    "ax.legend(handles=patches, title='Age Groups')\n",
    "\n",
    "plt.tight_layout()\n",
    "plt.show()"
   ]
  },
  {
   "cell_type": "code",
   "execution_count": 8,
   "id": "0cf0676f",
   "metadata": {
    "execution": {
     "iopub.execute_input": "2024-06-15T07:27:37.642962Z",
     "iopub.status.busy": "2024-06-15T07:27:37.642625Z",
     "iopub.status.idle": "2024-06-15T07:27:38.366816Z",
     "shell.execute_reply": "2024-06-15T07:27:38.365810Z"
    },
    "papermill": {
     "duration": 0.738164,
     "end_time": "2024-06-15T07:27:38.369263",
     "exception": false,
     "start_time": "2024-06-15T07:27:37.631099",
     "status": "completed"
    },
    "tags": []
   },
   "outputs": [
    {
     "data": {
      "image/png": "[encoded data removed]",
      "text/plain": [
       "<Figure size 1000x800 with 1 Axes>"
      ]
     },
     "metadata": {},
     "output_type": "display_data"
    }
   ],
   "source": [
    "# Age Distribution\n",
    "plt.figure(figsize=(10, 8))\n",
    "ax = sns.countplot(x='Age', data=df, palette='viridis')\n",
    "\n",
    "# Calculate percentages\n",
    "total = len(df['Age'])\n",
    "for p in ax.patches:\n",
    "    percentage = f'{100 * p.get_height() / total:.1f}%'\n",
    "    x = p.get_x() + p.get_width() / 2\n",
    "    y = p.get_height()\n",
    "    ax.annotate(percentage, (x, y), ha='center', va='bottom')\n",
    "\n",
    "# Setting title and labels\n",
    "ax.set_title('Age Distribution')\n",
    "ax.set_xlabel('Age Group')\n",
    "ax.set_ylabel('Count')\n",
    "\n",
    "# Creating legend\n",
    "colors = [p.get_facecolor() for p in ax.patches]\n",
    "age_groups = df['Age'].unique()\n",
    "age_groups.sort()\n",
    "patches = [mpatches.Patch(color=colors[i], label=age_group) for i, age_group in enumerate(age_groups)]\n",
    "ax.legend(handles=patches, title='Age Groups')\n",
    "\n",
    "plt.tight_layout()\n",
    "plt.show()"
   ]
  },
  {
   "cell_type": "code",
   "execution_count": 9,
   "id": "f0eeec3b",
   "metadata": {
    "execution": {
     "iopub.execute_input": "2024-06-15T07:27:38.392916Z",
     "iopub.status.busy": "2024-06-15T07:27:38.392543Z",
     "iopub.status.idle": "2024-06-15T07:27:38.926132Z",
     "shell.execute_reply": "2024-06-15T07:27:38.925122Z"
    },
    "papermill": {
     "duration": 0.547912,
     "end_time": "2024-06-15T07:27:38.928248",
     "exception": false,
     "start_time": "2024-06-15T07:27:38.380336",
     "status": "completed"
    },
    "tags": []
   },
   "outputs": [
    {
     "data": {
      "image/png": "[encoded data removed]",
      "text/plain": [
       "<Figure size 1200x800 with 1 Axes>"
      ]
     },
     "metadata": {},
     "output_type": "display_data"
    }
   ],
   "source": [
    "# Top 10 products\n",
    "top_product_ids = df['Product_ID'].value_counts().head(10).index\n",
    "df_top_products = df[df['Product_ID'].isin(top_product_ids)]\n",
    "\n",
    "# Plotting with seaborn\n",
    "plt.figure(figsize=(12, 8))\n",
    "ax = sns.countplot(x='Product_ID', data=df_top_products, palette='Spectral', order=top_product_ids)\n",
    "\n",
    "# Calculate percentages\n",
    "total = len(df_top_products)\n",
    "for p in ax.patches:\n",
    "    percentage = f'{100 * p.get_height() / total:.1f}%'\n",
    "    x = p.get_x() + p.get_width() / 2\n",
    "    y = p.get_height()\n",
    "    ax.annotate(percentage, (x, y), ha='center', va='bottom')\n",
    "\n",
    "# Setting title and labels\n",
    "ax.set_title('Top 10 Products')\n",
    "ax.set_xlabel('Product ID')\n",
    "ax.set_ylabel('Count')\n",
    "\n",
    "# Creating legend\n",
    "colors = [p.get_facecolor() for p in ax.patches]\n",
    "patches = [mpatches.Patch(color=colors[i], label=product_id) for i, product_id in enumerate(top_product_ids)]\n",
    "ax.legend(handles=patches, title='Product IDs')\n",
    "\n",
    "plt.tight_layout()\n",
    "plt.show()"
   ]
  },
  {
   "cell_type": "code",
   "execution_count": 10,
   "id": "85e927d3",
   "metadata": {
    "execution": {
     "iopub.execute_input": "2024-06-15T07:27:38.953539Z",
     "iopub.status.busy": "2024-06-15T07:27:38.953189Z",
     "iopub.status.idle": "2024-06-15T07:27:41.897700Z",
     "shell.execute_reply": "2024-06-15T07:27:41.896698Z"
    },
    "papermill": {
     "duration": 2.959765,
     "end_time": "2024-06-15T07:27:41.899861",
     "exception": false,
     "start_time": "2024-06-15T07:27:38.940096",
     "status": "completed"
    },
    "tags": []
   },
   "outputs": [
    {
     "name": "stderr",
     "output_type": "stream",
     "text": [
      "/tmp/ipykernel_18/1032617419.py:3: UserWarning: Ignoring `palette` because no `hue` variable has been assigned.\n",
      "  sns.histplot(df['Purchase'], bins=50, kde=True, palette='icefire')\n",
      "/opt/conda/lib/python3.10/site-packages/seaborn/_oldcore.py:1119: FutureWarning: use_inf_as_na option is deprecated and will be removed in a future version. Convert inf values to NaN before operating instead.\n",
      "  with pd.option_context('mode.use_inf_as_na', True):\n"
     ]
    },
    {
     "data": {
      "image/png": "[encoded data removed]",
      "text/plain": [
       "<Figure size 1000x600 with 1 Axes>"
      ]
     },
     "metadata": {},
     "output_type": "display_data"
    }
   ],
   "source": [
    "# Using the \"icefire\" color palette\n",
    "plt.figure(figsize=(10, 6))\n",
    "sns.histplot(df['Purchase'], bins=50, kde=True, palette='icefire')\n",
    "plt.title('Purchase Amount Distribution - Icefire Palette')\n",
    "plt.xlabel('Purchase Amount')\n",
    "plt.ylabel('Frequency')\n",
    "plt.tight_layout()\n",
    "plt.show()"
   ]
  },
  {
   "cell_type": "code",
   "execution_count": 11,
   "id": "326ef7c9",
   "metadata": {
    "execution": {
     "iopub.execute_input": "2024-06-15T07:27:41.926913Z",
     "iopub.status.busy": "2024-06-15T07:27:41.926553Z",
     "iopub.status.idle": "2024-06-15T07:27:42.240643Z",
     "shell.execute_reply": "2024-06-15T07:27:42.239574Z"
    },
    "papermill": {
     "duration": 0.330156,
     "end_time": "2024-06-15T07:27:42.242876",
     "exception": false,
     "start_time": "2024-06-15T07:27:41.912720",
     "status": "completed"
    },
    "tags": []
   },
   "outputs": [
    {
     "data": {
      "image/png": "[encoded data removed]",
      "text/plain": [
       "<Figure size 900x800 with 1 Axes>"
      ]
     },
     "metadata": {},
     "output_type": "display_data"
    }
   ],
   "source": [
    "# Calculate average purchase amount by gender\n",
    "gender_purchase_avg = df.groupby('Gender')['Purchase'].mean()\n",
    "gender_purchase_avg_df = gender_purchase_avg.reset_index()\n",
    "gender_purchase_avg_df.columns = ['Gender', 'Average Purchase Amount']\n",
    "\n",
    "# Calculate percentage\n",
    "total_avg_purchase = gender_purchase_avg_df['Average Purchase Amount'].sum()\n",
    "gender_purchase_avg_df['Percentage'] = gender_purchase_avg_df['Average Purchase Amount'] / total_avg_purchase * 100\n",
    "\n",
    "# Plotting with seaborn\n",
    "plt.figure(figsize=(9, 8))\n",
    "ax = sns.barplot(x='Gender', y='Average Purchase Amount', data=gender_purchase_avg_df, palette='coolwarm')\n",
    "\n",
    "# Annotate bars with percentage\n",
    "for p in ax.patches:\n",
    "    ax.annotate(f\"{p.get_height():.2f}\\n({p.get_height() / total_avg_purchase * 100:.1f}%)\", \n",
    "                (p.get_x() + p.get_width() / 2., p.get_height()), \n",
    "                ha='center', va='center', fontsize=10, color='black', xytext=(0, 10),\n",
    "                textcoords='offset points')\n",
    "\n",
    "# Setting title and labels\n",
    "ax.set_title('Average Purchase Amount by Gender')\n",
    "ax.set_xlabel('Gender')\n",
    "ax.set_ylabel('Average Purchase Amount')\n",
    "\n",
    "# Adding legend manually\n",
    "colors = [p.get_facecolor() for p in ax.patches]\n",
    "gender_groups = df['Gender'].unique()\n",
    "gender_groups.sort()\n",
    "patches = [mpatches.Patch(color=colors[i], label=age_group) for i, age_group in enumerate(gender_groups)]\n",
    "ax.legend(handles=patches)\n",
    "\n",
    "plt.tight_layout()\n",
    "plt.show()"
   ]
  },
  {
   "cell_type": "code",
   "execution_count": 12,
   "id": "4143b37f",
   "metadata": {
    "execution": {
     "iopub.execute_input": "2024-06-15T07:27:42.271644Z",
     "iopub.status.busy": "2024-06-15T07:27:42.271274Z",
     "iopub.status.idle": "2024-06-15T07:27:43.006504Z",
     "shell.execute_reply": "2024-06-15T07:27:43.005487Z"
    },
    "papermill": {
     "duration": 0.752291,
     "end_time": "2024-06-15T07:27:43.008766",
     "exception": false,
     "start_time": "2024-06-15T07:27:42.256475",
     "status": "completed"
    },
    "tags": []
   },
   "outputs": [
    {
     "name": "stdout",
     "output_type": "stream",
     "text": [
      "Frequency of Product Purchases by Age Group:\n",
      "Product_Category     1     2     3     4      5     6     7      8    9   \\\n",
      "Age                                                                        \n",
      "0-17               3585   805  1200   758   4330   399    53   2258   16   \n",
      "18-25             26962  4428  4710  2463  28522  3749   481  17911   63   \n",
      "26-35             58249  8928  7662  4192  61473  8485  1651  44256  154   \n",
      "36-45             27648  4912  3854  2354  29377  3899   809  23296  107   \n",
      "46-50             10474  2105  1376   990  11971  1622   327  10656   33   \n",
      "51-55              9049  1781   924   678   9893  1450   266   9340   29   \n",
      "55+                4411   905   487   318   5367   862   134   6208    8   \n",
      "\n",
      "Product_Category    10    11    12    13   14    15    16   17    18   19   20  \n",
      "Age                                                                             \n",
      "0-17               111   740   125   112   39   160   229    6    27   59   90  \n",
      "18-25              603  4597   439   756  230  1024  1598   41   339  275  469  \n",
      "26-35             1787  9874  1096  2096  564  2372  4118  127  1042  563  898  \n",
      "36-45             1235  4953   994  1250  312  1395  1955  135   702  320  506  \n",
      "46-50              520  2104   520   551  149   602   879   95   351  149  227  \n",
      "51-55              519  1458   433   483  154   508   672  107   423  134  200  \n",
      "55+                350   561   340   301   75   229   377   67   241  103  160  \n"
     ]
    },
    {
     "data": {
      "image/png": "[encoded data removed]",
      "text/plain": [
       "<Figure size 1200x800 with 2 Axes>"
      ]
     },
     "metadata": {},
     "output_type": "display_data"
    }
   ],
   "source": [
    "# Calculate the frequency of product purchases across different age groups\n",
    "age_product_freq = df.groupby(['Age', 'Product_Category']).size().unstack().fillna(0)\n",
    "\n",
    "print(\"Frequency of Product Purchases by Age Group:\")\n",
    "print(age_product_freq)\n",
    "\n",
    "# Plot heatmap of product purchases by age group\n",
    "fig, ax = plt.subplots(figsize=(12, 8))\n",
    "cax = ax.matshow(age_product_freq, cmap='viridis')\n",
    "fig.colorbar(cax)\n",
    "ax.set_xticks(range(len(age_product_freq.columns)))\n",
    "ax.set_xticklabels(age_product_freq.columns, rotation=90)\n",
    "ax.set_yticks(range(len(age_product_freq.index)))\n",
    "ax.set_yticklabels(age_product_freq.index)\n",
    "ax.set_title('Product Purchases by Age Group', pad=20)\n",
    "plt.tight_layout()\n",
    "plt.show()"
   ]
  },
  {
   "cell_type": "code",
   "execution_count": 13,
   "id": "5edc3f32",
   "metadata": {
    "execution": {
     "iopub.execute_input": "2024-06-15T07:27:43.038650Z",
     "iopub.status.busy": "2024-06-15T07:27:43.037965Z",
     "iopub.status.idle": "2024-06-15T07:27:43.436822Z",
     "shell.execute_reply": "2024-06-15T07:27:43.435803Z"
    },
    "papermill": {
     "duration": 0.416527,
     "end_time": "2024-06-15T07:27:43.439277",
     "exception": false,
     "start_time": "2024-06-15T07:27:43.022750",
     "status": "completed"
    },
    "tags": []
   },
   "outputs": [
    {
     "data": {
      "image/png": "[encoded data removed]",
      "text/plain": [
       "<Figure size 1200x800 with 1 Axes>"
      ]
     },
     "metadata": {},
     "output_type": "display_data"
    }
   ],
   "source": [
    "# Calculate average purchase amount by occupation\n",
    "occupation_purchase_avg = df.groupby('Occupation')['Purchase'].mean()\n",
    "occupation_purchase_avg_df = occupation_purchase_avg.reset_index()\n",
    "occupation_purchase_avg_df.columns = ['Occupation', 'Average Purchase Amount']\n",
    "\n",
    "# Plotting with seaborn\n",
    "plt.figure(figsize=(12, 8))\n",
    "ax = sns.barplot(x='Occupation', y='Average Purchase Amount', data=occupation_purchase_avg_df, palette='Paired')\n",
    "\n",
    "# Setting title and labels\n",
    "ax.set_title('Average Purchase Amount by Occupation')\n",
    "ax.set_xlabel('Occupation')\n",
    "ax.set_ylabel('Average Purchase Amount')\n",
    "\n",
    "plt.tight_layout()\n",
    "plt.show()"
   ]
  },
  {
   "cell_type": "code",
   "execution_count": 14,
   "id": "3d405891",
   "metadata": {
    "execution": {
     "iopub.execute_input": "2024-06-15T07:27:43.469950Z",
     "iopub.status.busy": "2024-06-15T07:27:43.469579Z",
     "iopub.status.idle": "2024-06-15T07:27:43.482678Z",
     "shell.execute_reply": "2024-06-15T07:27:43.481719Z"
    },
    "papermill": {
     "duration": 0.030921,
     "end_time": "2024-06-15T07:27:43.484788",
     "exception": false,
     "start_time": "2024-06-15T07:27:43.453867",
     "status": "completed"
    },
    "tags": []
   },
   "outputs": [
    {
     "data": {
      "text/html": [
       "<div>\n",
       "<style scoped>\n",
       "    .dataframe tbody tr th:only-of-type {\n",
       "        vertical-align: middle;\n",
       "    }\n",
       "\n",
       "    .dataframe tbody tr th {\n",
       "        vertical-align: top;\n",
       "    }\n",
       "\n",
       "    .dataframe thead th {\n",
       "        text-align: right;\n",
       "    }\n",
       "</style>\n",
       "<table border=\"1\" class=\"dataframe\">\n",
       "  <thead>\n",
       "    <tr style=\"text-align: right;\">\n",
       "      <th></th>\n",
       "      <th>User_ID</th>\n",
       "      <th>Product_ID</th>\n",
       "      <th>Gender</th>\n",
       "      <th>Age</th>\n",
       "      <th>Occupation</th>\n",
       "      <th>City_Category</th>\n",
       "      <th>Stay_In_Current_City_Years</th>\n",
       "      <th>Marital_Status</th>\n",
       "      <th>Product_Category</th>\n",
       "      <th>Purchase</th>\n",
       "    </tr>\n",
       "  </thead>\n",
       "  <tbody>\n",
       "    <tr>\n",
       "      <th>0</th>\n",
       "      <td>1000001</td>\n",
       "      <td>P00069042</td>\n",
       "      <td>F</td>\n",
       "      <td>0-17</td>\n",
       "      <td>10</td>\n",
       "      <td>A</td>\n",
       "      <td>2</td>\n",
       "      <td>0</td>\n",
       "      <td>3</td>\n",
       "      <td>8370</td>\n",
       "    </tr>\n",
       "    <tr>\n",
       "      <th>1</th>\n",
       "      <td>1000001</td>\n",
       "      <td>P00248942</td>\n",
       "      <td>F</td>\n",
       "      <td>0-17</td>\n",
       "      <td>10</td>\n",
       "      <td>A</td>\n",
       "      <td>2</td>\n",
       "      <td>0</td>\n",
       "      <td>1</td>\n",
       "      <td>15200</td>\n",
       "    </tr>\n",
       "    <tr>\n",
       "      <th>2</th>\n",
       "      <td>1000001</td>\n",
       "      <td>P00087842</td>\n",
       "      <td>F</td>\n",
       "      <td>0-17</td>\n",
       "      <td>10</td>\n",
       "      <td>A</td>\n",
       "      <td>2</td>\n",
       "      <td>0</td>\n",
       "      <td>12</td>\n",
       "      <td>1422</td>\n",
       "    </tr>\n",
       "    <tr>\n",
       "      <th>3</th>\n",
       "      <td>1000001</td>\n",
       "      <td>P00085442</td>\n",
       "      <td>F</td>\n",
       "      <td>0-17</td>\n",
       "      <td>10</td>\n",
       "      <td>A</td>\n",
       "      <td>2</td>\n",
       "      <td>0</td>\n",
       "      <td>12</td>\n",
       "      <td>1057</td>\n",
       "    </tr>\n",
       "    <tr>\n",
       "      <th>4</th>\n",
       "      <td>1000002</td>\n",
       "      <td>P00285442</td>\n",
       "      <td>M</td>\n",
       "      <td>55+</td>\n",
       "      <td>16</td>\n",
       "      <td>C</td>\n",
       "      <td>4+</td>\n",
       "      <td>0</td>\n",
       "      <td>8</td>\n",
       "      <td>7969</td>\n",
       "    </tr>\n",
       "  </tbody>\n",
       "</table>\n",
       "</div>"
      ],
      "text/plain": [
       "   User_ID Product_ID Gender   Age  Occupation City_Category  \\\n",
       "0  1000001  P00069042      F  0-17          10             A   \n",
       "1  1000001  P00248942      F  0-17          10             A   \n",
       "2  1000001  P00087842      F  0-17          10             A   \n",
       "3  1000001  P00085442      F  0-17          10             A   \n",
       "4  1000002  P00285442      M   55+          16             C   \n",
       "\n",
       "  Stay_In_Current_City_Years  Marital_Status  Product_Category  Purchase  \n",
       "0                          2               0                 3      8370  \n",
       "1                          2               0                 1     15200  \n",
       "2                          2               0                12      1422  \n",
       "3                          2               0                12      1057  \n",
       "4                         4+               0                 8      7969  "
      ]
     },
     "execution_count": 14,
     "metadata": {},
     "output_type": "execute_result"
    }
   ],
   "source": [
    "df.head()"
   ]
  },
  {
   "cell_type": "code",
   "execution_count": 15,
   "id": "f03eeeae",
   "metadata": {
    "execution": {
     "iopub.execute_input": "2024-06-15T07:27:43.515799Z",
     "iopub.status.busy": "2024-06-15T07:27:43.515427Z",
     "iopub.status.idle": "2024-06-15T07:27:43.705790Z",
     "shell.execute_reply": "2024-06-15T07:27:43.704700Z"
    },
    "papermill": {
     "duration": 0.208453,
     "end_time": "2024-06-15T07:27:43.708001",
     "exception": false,
     "start_time": "2024-06-15T07:27:43.499548",
     "status": "completed"
    },
    "tags": []
   },
   "outputs": [
    {
     "name": "stderr",
     "output_type": "stream",
     "text": [
      "/tmp/ipykernel_18/2521965824.py:1: FutureWarning: Downcasting behavior in `replace` is deprecated and will be removed in a future version. To retain the old behavior, explicitly call `result.infer_objects(copy=False)`. To opt-in to the future behavior, set `pd.set_option('future.no_silent_downcasting', True)`\n",
      "  df['Gender'] = df['Gender'].replace({'M': 1, 'F': 0})\n"
     ]
    }
   ],
   "source": [
    "df['Gender'] = df['Gender'].replace({'M': 1, 'F': 0})"
   ]
  },
  {
   "cell_type": "markdown",
   "id": "55d2bca2",
   "metadata": {
    "papermill": {
     "duration": 0.01453,
     "end_time": "2024-06-15T07:27:43.737362",
     "exception": false,
     "start_time": "2024-06-15T07:27:43.722832",
     "status": "completed"
    },
    "tags": []
   },
   "source": [
    "# **Understanding the Relationship of the Columns**"
   ]
  },
  {
   "cell_type": "code",
   "execution_count": 16,
   "id": "d6edce80",
   "metadata": {
    "execution": {
     "iopub.execute_input": "2024-06-15T07:27:43.768431Z",
     "iopub.status.busy": "2024-06-15T07:27:43.768027Z",
     "iopub.status.idle": "2024-06-15T07:27:47.991863Z",
     "shell.execute_reply": "2024-06-15T07:27:47.990853Z"
    },
    "papermill": {
     "duration": 4.241872,
     "end_time": "2024-06-15T07:27:47.994079",
     "exception": false,
     "start_time": "2024-06-15T07:27:43.752207",
     "status": "completed"
    },
    "tags": []
   },
   "outputs": [
    {
     "data": {
      "text/plain": [
       "<Axes: title={'center': 'Purchase'}, xlabel='Gender'>"
      ]
     },
     "execution_count": 16,
     "metadata": {},
     "output_type": "execute_result"
    },
    {
     "data": {
      "image/png": "[encoded data removed]",
      "text/plain": [
       "<Figure size 640x480 with 1 Axes>"
      ]
     },
     "metadata": {},
     "output_type": "display_data"
    },
    {
     "data": {
      "image/png": "[encoded data removed]",
      "text/plain": [
       "<Figure size 640x480 with 1 Axes>"
      ]
     },
     "metadata": {},
     "output_type": "display_data"
    },
    {
     "data": {
      "image/png": "[encoded data removed]",
      "text/plain": [
       "<Figure size 640x480 with 1 Axes>"
      ]
     },
     "metadata": {},
     "output_type": "display_data"
    },
    {
     "data": {
      "image/png": "[encoded data removed]",
      "text/plain": [
       "<Figure size 640x480 with 1 Axes>"
      ]
     },
     "metadata": {},
     "output_type": "display_data"
    },
    {
     "data": {
      "image/png": "[encoded data removed]",
      "text/plain": [
       "<Figure size 640x480 with 1 Axes>"
      ]
     },
     "metadata": {},
     "output_type": "display_data"
    }
   ],
   "source": [
    "df.boxplot(\"Purchase\", by = \"Occupation\")\n",
    "df.boxplot(\"Purchase\", by = \"Marital_Status\")\n",
    "df.boxplot(\"Purchase\", by = \"Product_Category\")\n",
    "df.boxplot(\"Purchase\", by = \"Stay_In_Current_City_Years\")\n",
    "df.boxplot(\"Purchase\", by = \"Gender\")"
   ]
  },
  {
   "cell_type": "code",
   "execution_count": 17,
   "id": "0ee08583",
   "metadata": {
    "execution": {
     "iopub.execute_input": "2024-06-15T07:27:48.030348Z",
     "iopub.status.busy": "2024-06-15T07:27:48.029745Z",
     "iopub.status.idle": "2024-06-15T07:27:48.335729Z",
     "shell.execute_reply": "2024-06-15T07:27:48.334921Z"
    },
    "papermill": {
     "duration": 0.326849,
     "end_time": "2024-06-15T07:27:48.338231",
     "exception": false,
     "start_time": "2024-06-15T07:27:48.011382",
     "status": "completed"
    },
    "tags": []
   },
   "outputs": [],
   "source": [
    "# Convert '4+' to 4\n",
    "df['Stay_In_Current_City_Years'] = df['Stay_In_Current_City_Years'].replace('4+', 4)\n",
    "\n",
    "# Convert the column to numeric\n",
    "df['Stay_In_Current_City_Years'] = pd.to_numeric(df['Stay_In_Current_City_Years'])"
   ]
  },
  {
   "cell_type": "code",
   "execution_count": 18,
   "id": "9bc2abf4",
   "metadata": {
    "execution": {
     "iopub.execute_input": "2024-06-15T07:27:48.375089Z",
     "iopub.status.busy": "2024-06-15T07:27:48.374251Z",
     "iopub.status.idle": "2024-06-15T07:27:48.426411Z",
     "shell.execute_reply": "2024-06-15T07:27:48.425548Z"
    },
    "papermill": {
     "duration": 0.07324,
     "end_time": "2024-06-15T07:27:48.428932",
     "exception": false,
     "start_time": "2024-06-15T07:27:48.355692",
     "status": "completed"
    },
    "tags": []
   },
   "outputs": [],
   "source": [
    "# Convert '55+' to 55\n",
    "df['Age'] = df['Age'].replace('55+', 55)"
   ]
  },
  {
   "cell_type": "code",
   "execution_count": 19,
   "id": "4fe386b0",
   "metadata": {
    "execution": {
     "iopub.execute_input": "2024-06-15T07:27:48.465882Z",
     "iopub.status.busy": "2024-06-15T07:27:48.465223Z",
     "iopub.status.idle": "2024-06-15T07:27:48.478120Z",
     "shell.execute_reply": "2024-06-15T07:27:48.477177Z"
    },
    "papermill": {
     "duration": 0.033558,
     "end_time": "2024-06-15T07:27:48.480130",
     "exception": false,
     "start_time": "2024-06-15T07:27:48.446572",
     "status": "completed"
    },
    "tags": []
   },
   "outputs": [
    {
     "data": {
      "text/html": [
       "<div>\n",
       "<style scoped>\n",
       "    .dataframe tbody tr th:only-of-type {\n",
       "        vertical-align: middle;\n",
       "    }\n",
       "\n",
       "    .dataframe tbody tr th {\n",
       "        vertical-align: top;\n",
       "    }\n",
       "\n",
       "    .dataframe thead th {\n",
       "        text-align: right;\n",
       "    }\n",
       "</style>\n",
       "<table border=\"1\" class=\"dataframe\">\n",
       "  <thead>\n",
       "    <tr style=\"text-align: right;\">\n",
       "      <th></th>\n",
       "      <th>User_ID</th>\n",
       "      <th>Product_ID</th>\n",
       "      <th>Gender</th>\n",
       "      <th>Age</th>\n",
       "      <th>Occupation</th>\n",
       "      <th>City_Category</th>\n",
       "      <th>Stay_In_Current_City_Years</th>\n",
       "      <th>Marital_Status</th>\n",
       "      <th>Product_Category</th>\n",
       "      <th>Purchase</th>\n",
       "    </tr>\n",
       "  </thead>\n",
       "  <tbody>\n",
       "    <tr>\n",
       "      <th>0</th>\n",
       "      <td>1000001</td>\n",
       "      <td>P00069042</td>\n",
       "      <td>0</td>\n",
       "      <td>0-17</td>\n",
       "      <td>10</td>\n",
       "      <td>A</td>\n",
       "      <td>2</td>\n",
       "      <td>0</td>\n",
       "      <td>3</td>\n",
       "      <td>8370</td>\n",
       "    </tr>\n",
       "    <tr>\n",
       "      <th>1</th>\n",
       "      <td>1000001</td>\n",
       "      <td>P00248942</td>\n",
       "      <td>0</td>\n",
       "      <td>0-17</td>\n",
       "      <td>10</td>\n",
       "      <td>A</td>\n",
       "      <td>2</td>\n",
       "      <td>0</td>\n",
       "      <td>1</td>\n",
       "      <td>15200</td>\n",
       "    </tr>\n",
       "    <tr>\n",
       "      <th>2</th>\n",
       "      <td>1000001</td>\n",
       "      <td>P00087842</td>\n",
       "      <td>0</td>\n",
       "      <td>0-17</td>\n",
       "      <td>10</td>\n",
       "      <td>A</td>\n",
       "      <td>2</td>\n",
       "      <td>0</td>\n",
       "      <td>12</td>\n",
       "      <td>1422</td>\n",
       "    </tr>\n",
       "    <tr>\n",
       "      <th>3</th>\n",
       "      <td>1000001</td>\n",
       "      <td>P00085442</td>\n",
       "      <td>0</td>\n",
       "      <td>0-17</td>\n",
       "      <td>10</td>\n",
       "      <td>A</td>\n",
       "      <td>2</td>\n",
       "      <td>0</td>\n",
       "      <td>12</td>\n",
       "      <td>1057</td>\n",
       "    </tr>\n",
       "    <tr>\n",
       "      <th>4</th>\n",
       "      <td>1000002</td>\n",
       "      <td>P00285442</td>\n",
       "      <td>1</td>\n",
       "      <td>55</td>\n",
       "      <td>16</td>\n",
       "      <td>C</td>\n",
       "      <td>4</td>\n",
       "      <td>0</td>\n",
       "      <td>8</td>\n",
       "      <td>7969</td>\n",
       "    </tr>\n",
       "  </tbody>\n",
       "</table>\n",
       "</div>"
      ],
      "text/plain": [
       "   User_ID Product_ID  Gender   Age  Occupation City_Category  \\\n",
       "0  1000001  P00069042       0  0-17          10             A   \n",
       "1  1000001  P00248942       0  0-17          10             A   \n",
       "2  1000001  P00087842       0  0-17          10             A   \n",
       "3  1000001  P00085442       0  0-17          10             A   \n",
       "4  1000002  P00285442       1    55          16             C   \n",
       "\n",
       "   Stay_In_Current_City_Years  Marital_Status  Product_Category  Purchase  \n",
       "0                           2               0                 3      8370  \n",
       "1                           2               0                 1     15200  \n",
       "2                           2               0                12      1422  \n",
       "3                           2               0                12      1057  \n",
       "4                           4               0                 8      7969  "
      ]
     },
     "execution_count": 19,
     "metadata": {},
     "output_type": "execute_result"
    }
   ],
   "source": [
    "df.head()"
   ]
  },
  {
   "cell_type": "markdown",
   "id": "de5a981b",
   "metadata": {
    "papermill": {
     "duration": 0.017297,
     "end_time": "2024-06-15T07:27:48.514805",
     "exception": false,
     "start_time": "2024-06-15T07:27:48.497508",
     "status": "completed"
    },
    "tags": []
   },
   "source": [
    "# **Creating Pipeline and Encoding**"
   ]
  },
  {
   "cell_type": "code",
   "execution_count": 20,
   "id": "4b4e437a",
   "metadata": {
    "execution": {
     "iopub.execute_input": "2024-06-15T07:27:48.551884Z",
     "iopub.status.busy": "2024-06-15T07:27:48.551195Z",
     "iopub.status.idle": "2024-06-15T07:27:48.911124Z",
     "shell.execute_reply": "2024-06-15T07:27:48.910064Z"
    },
    "papermill": {
     "duration": 0.380787,
     "end_time": "2024-06-15T07:27:48.913473",
     "exception": false,
     "start_time": "2024-06-15T07:27:48.532686",
     "status": "completed"
    },
    "tags": []
   },
   "outputs": [],
   "source": [
    "from sklearn.compose import ColumnTransformer\n",
    "from sklearn.pipeline import make_pipeline, Pipeline\n",
    "from sklearn.base import BaseEstimator, TransformerMixin\n",
    "from sklearn.model_selection import train_test_split\n",
    "from sklearn.preprocessing import RobustScaler, OneHotEncoder\n",
    "from sklearn.linear_model import LinearRegression\n",
    "from sklearn.tree import DecisionTreeRegressor\n",
    "from sklearn import set_config\n",
    "from copy import deepcopy"
   ]
  },
  {
   "cell_type": "code",
   "execution_count": 21,
   "id": "19420c61",
   "metadata": {
    "execution": {
     "iopub.execute_input": "2024-06-15T07:27:49.000343Z",
     "iopub.status.busy": "2024-06-15T07:27:48.999941Z",
     "iopub.status.idle": "2024-06-15T07:27:49.004852Z",
     "shell.execute_reply": "2024-06-15T07:27:49.003843Z"
    },
    "papermill": {
     "duration": 0.07564,
     "end_time": "2024-06-15T07:27:49.006896",
     "exception": false,
     "start_time": "2024-06-15T07:27:48.931256",
     "status": "completed"
    },
    "tags": []
   },
   "outputs": [],
   "source": [
    "num_features = ['Purchase']\n",
    "cat_features = ['Gender',\n",
    "                'Age',\n",
    "                'Occupation',\n",
    "                'City_Category',\n",
    "                'Stay_In_Current_City_Years',\n",
    "                'Marital_Status',\n",
    "                'Product_Category']"
   ]
  },
  {
   "cell_type": "code",
   "execution_count": 22,
   "id": "2355d83f",
   "metadata": {
    "execution": {
     "iopub.execute_input": "2024-06-15T07:27:49.044071Z",
     "iopub.status.busy": "2024-06-15T07:27:49.043469Z",
     "iopub.status.idle": "2024-06-15T07:27:49.053734Z",
     "shell.execute_reply": "2024-06-15T07:27:49.052765Z"
    },
    "papermill": {
     "duration": 0.031087,
     "end_time": "2024-06-15T07:27:49.055815",
     "exception": false,
     "start_time": "2024-06-15T07:27:49.024728",
     "status": "completed"
    },
    "tags": []
   },
   "outputs": [
    {
     "data": {
      "text/html": [
       "<div>\n",
       "<style scoped>\n",
       "    .dataframe tbody tr th:only-of-type {\n",
       "        vertical-align: middle;\n",
       "    }\n",
       "\n",
       "    .dataframe tbody tr th {\n",
       "        vertical-align: top;\n",
       "    }\n",
       "\n",
       "    .dataframe thead th {\n",
       "        text-align: right;\n",
       "    }\n",
       "</style>\n",
       "<table border=\"1\" class=\"dataframe\">\n",
       "  <thead>\n",
       "    <tr style=\"text-align: right;\">\n",
       "      <th></th>\n",
       "      <th>Purchase</th>\n",
       "    </tr>\n",
       "  </thead>\n",
       "  <tbody>\n",
       "    <tr>\n",
       "      <th>0</th>\n",
       "      <td>8370</td>\n",
       "    </tr>\n",
       "    <tr>\n",
       "      <th>1</th>\n",
       "      <td>15200</td>\n",
       "    </tr>\n",
       "    <tr>\n",
       "      <th>2</th>\n",
       "      <td>1422</td>\n",
       "    </tr>\n",
       "    <tr>\n",
       "      <th>3</th>\n",
       "      <td>1057</td>\n",
       "    </tr>\n",
       "    <tr>\n",
       "      <th>4</th>\n",
       "      <td>7969</td>\n",
       "    </tr>\n",
       "    <tr>\n",
       "      <th>...</th>\n",
       "      <td>...</td>\n",
       "    </tr>\n",
       "    <tr>\n",
       "      <th>550063</th>\n",
       "      <td>368</td>\n",
       "    </tr>\n",
       "    <tr>\n",
       "      <th>550064</th>\n",
       "      <td>371</td>\n",
       "    </tr>\n",
       "    <tr>\n",
       "      <th>550065</th>\n",
       "      <td>137</td>\n",
       "    </tr>\n",
       "    <tr>\n",
       "      <th>550066</th>\n",
       "      <td>365</td>\n",
       "    </tr>\n",
       "    <tr>\n",
       "      <th>550067</th>\n",
       "      <td>490</td>\n",
       "    </tr>\n",
       "  </tbody>\n",
       "</table>\n",
       "<p>550068 rows × 1 columns</p>\n",
       "</div>"
      ],
      "text/plain": [
       "        Purchase\n",
       "0           8370\n",
       "1          15200\n",
       "2           1422\n",
       "3           1057\n",
       "4           7969\n",
       "...          ...\n",
       "550063       368\n",
       "550064       371\n",
       "550065       137\n",
       "550066       365\n",
       "550067       490\n",
       "\n",
       "[550068 rows x 1 columns]"
      ]
     },
     "execution_count": 22,
     "metadata": {},
     "output_type": "execute_result"
    }
   ],
   "source": [
    "num_features = pd.DataFrame(df['Purchase'])\n",
    "num_features"
   ]
  },
  {
   "cell_type": "code",
   "execution_count": 23,
   "id": "b8cc3600",
   "metadata": {
    "execution": {
     "iopub.execute_input": "2024-06-15T07:27:49.093796Z",
     "iopub.status.busy": "2024-06-15T07:27:49.093028Z",
     "iopub.status.idle": "2024-06-15T07:27:49.130090Z",
     "shell.execute_reply": "2024-06-15T07:27:49.129147Z"
    },
    "papermill": {
     "duration": 0.058569,
     "end_time": "2024-06-15T07:27:49.132401",
     "exception": false,
     "start_time": "2024-06-15T07:27:49.073832",
     "status": "completed"
    },
    "tags": []
   },
   "outputs": [
    {
     "data": {
      "text/html": [
       "<div>\n",
       "<style scoped>\n",
       "    .dataframe tbody tr th:only-of-type {\n",
       "        vertical-align: middle;\n",
       "    }\n",
       "\n",
       "    .dataframe tbody tr th {\n",
       "        vertical-align: top;\n",
       "    }\n",
       "\n",
       "    .dataframe thead th {\n",
       "        text-align: right;\n",
       "    }\n",
       "</style>\n",
       "<table border=\"1\" class=\"dataframe\">\n",
       "  <thead>\n",
       "    <tr style=\"text-align: right;\">\n",
       "      <th></th>\n",
       "      <th>Gender</th>\n",
       "      <th>Age</th>\n",
       "      <th>Occupation</th>\n",
       "      <th>City_Category</th>\n",
       "      <th>Stay_In_Current_City_Years</th>\n",
       "      <th>Marital_Status</th>\n",
       "      <th>Product_Category</th>\n",
       "    </tr>\n",
       "  </thead>\n",
       "  <tbody>\n",
       "    <tr>\n",
       "      <th>0</th>\n",
       "      <td>0</td>\n",
       "      <td>0-17</td>\n",
       "      <td>10</td>\n",
       "      <td>A</td>\n",
       "      <td>2</td>\n",
       "      <td>0</td>\n",
       "      <td>3</td>\n",
       "    </tr>\n",
       "    <tr>\n",
       "      <th>1</th>\n",
       "      <td>0</td>\n",
       "      <td>0-17</td>\n",
       "      <td>10</td>\n",
       "      <td>A</td>\n",
       "      <td>2</td>\n",
       "      <td>0</td>\n",
       "      <td>1</td>\n",
       "    </tr>\n",
       "    <tr>\n",
       "      <th>2</th>\n",
       "      <td>0</td>\n",
       "      <td>0-17</td>\n",
       "      <td>10</td>\n",
       "      <td>A</td>\n",
       "      <td>2</td>\n",
       "      <td>0</td>\n",
       "      <td>12</td>\n",
       "    </tr>\n",
       "    <tr>\n",
       "      <th>3</th>\n",
       "      <td>0</td>\n",
       "      <td>0-17</td>\n",
       "      <td>10</td>\n",
       "      <td>A</td>\n",
       "      <td>2</td>\n",
       "      <td>0</td>\n",
       "      <td>12</td>\n",
       "    </tr>\n",
       "    <tr>\n",
       "      <th>4</th>\n",
       "      <td>1</td>\n",
       "      <td>55</td>\n",
       "      <td>16</td>\n",
       "      <td>C</td>\n",
       "      <td>4</td>\n",
       "      <td>0</td>\n",
       "      <td>8</td>\n",
       "    </tr>\n",
       "    <tr>\n",
       "      <th>...</th>\n",
       "      <td>...</td>\n",
       "      <td>...</td>\n",
       "      <td>...</td>\n",
       "      <td>...</td>\n",
       "      <td>...</td>\n",
       "      <td>...</td>\n",
       "      <td>...</td>\n",
       "    </tr>\n",
       "    <tr>\n",
       "      <th>550063</th>\n",
       "      <td>1</td>\n",
       "      <td>51-55</td>\n",
       "      <td>13</td>\n",
       "      <td>B</td>\n",
       "      <td>1</td>\n",
       "      <td>1</td>\n",
       "      <td>20</td>\n",
       "    </tr>\n",
       "    <tr>\n",
       "      <th>550064</th>\n",
       "      <td>0</td>\n",
       "      <td>26-35</td>\n",
       "      <td>1</td>\n",
       "      <td>C</td>\n",
       "      <td>3</td>\n",
       "      <td>0</td>\n",
       "      <td>20</td>\n",
       "    </tr>\n",
       "    <tr>\n",
       "      <th>550065</th>\n",
       "      <td>0</td>\n",
       "      <td>26-35</td>\n",
       "      <td>15</td>\n",
       "      <td>B</td>\n",
       "      <td>4</td>\n",
       "      <td>1</td>\n",
       "      <td>20</td>\n",
       "    </tr>\n",
       "    <tr>\n",
       "      <th>550066</th>\n",
       "      <td>0</td>\n",
       "      <td>55</td>\n",
       "      <td>1</td>\n",
       "      <td>C</td>\n",
       "      <td>2</td>\n",
       "      <td>0</td>\n",
       "      <td>20</td>\n",
       "    </tr>\n",
       "    <tr>\n",
       "      <th>550067</th>\n",
       "      <td>0</td>\n",
       "      <td>46-50</td>\n",
       "      <td>0</td>\n",
       "      <td>B</td>\n",
       "      <td>4</td>\n",
       "      <td>1</td>\n",
       "      <td>20</td>\n",
       "    </tr>\n",
       "  </tbody>\n",
       "</table>\n",
       "<p>550068 rows × 7 columns</p>\n",
       "</div>"
      ],
      "text/plain": [
       "        Gender    Age  Occupation City_Category  Stay_In_Current_City_Years  \\\n",
       "0            0   0-17          10             A                           2   \n",
       "1            0   0-17          10             A                           2   \n",
       "2            0   0-17          10             A                           2   \n",
       "3            0   0-17          10             A                           2   \n",
       "4            1     55          16             C                           4   \n",
       "...        ...    ...         ...           ...                         ...   \n",
       "550063       1  51-55          13             B                           1   \n",
       "550064       0  26-35           1             C                           3   \n",
       "550065       0  26-35          15             B                           4   \n",
       "550066       0     55           1             C                           2   \n",
       "550067       0  46-50           0             B                           4   \n",
       "\n",
       "        Marital_Status  Product_Category  \n",
       "0                    0                 3  \n",
       "1                    0                 1  \n",
       "2                    0                12  \n",
       "3                    0                12  \n",
       "4                    0                 8  \n",
       "...                ...               ...  \n",
       "550063               1                20  \n",
       "550064               0                20  \n",
       "550065               1                20  \n",
       "550066               0                20  \n",
       "550067               1                20  \n",
       "\n",
       "[550068 rows x 7 columns]"
      ]
     },
     "execution_count": 23,
     "metadata": {},
     "output_type": "execute_result"
    }
   ],
   "source": [
    "cat_features = pd.DataFrame(df[['Gender',\n",
    "                'Age',\n",
    "                'Occupation',\n",
    "                'City_Category',\n",
    "                'Stay_In_Current_City_Years',\n",
    "                'Marital_Status',\n",
    "                'Product_Category']])\n",
    "cat_features"
   ]
  },
  {
   "cell_type": "code",
   "execution_count": 24,
   "id": "76a161fd",
   "metadata": {
    "execution": {
     "iopub.execute_input": "2024-06-15T07:27:49.170864Z",
     "iopub.status.busy": "2024-06-15T07:27:49.170098Z",
     "iopub.status.idle": "2024-06-15T07:27:49.174598Z",
     "shell.execute_reply": "2024-06-15T07:27:49.173658Z"
    },
    "papermill": {
     "duration": 0.025568,
     "end_time": "2024-06-15T07:27:49.176489",
     "exception": false,
     "start_time": "2024-06-15T07:27:49.150921",
     "status": "completed"
    },
    "tags": []
   },
   "outputs": [],
   "source": [
    "X = cat_features\n",
    "y = num_features"
   ]
  },
  {
   "cell_type": "code",
   "execution_count": 25,
   "id": "b0014a1e",
   "metadata": {
    "execution": {
     "iopub.execute_input": "2024-06-15T07:27:49.215509Z",
     "iopub.status.busy": "2024-06-15T07:27:49.214639Z",
     "iopub.status.idle": "2024-06-15T07:27:49.222246Z",
     "shell.execute_reply": "2024-06-15T07:27:49.221275Z"
    },
    "papermill": {
     "duration": 0.029429,
     "end_time": "2024-06-15T07:27:49.224329",
     "exception": false,
     "start_time": "2024-06-15T07:27:49.194900",
     "status": "completed"
    },
    "tags": []
   },
   "outputs": [
    {
     "data": {
      "text/plain": [
       "Gender                         int64\n",
       "Age                           object\n",
       "Occupation                     int64\n",
       "City_Category                 object\n",
       "Stay_In_Current_City_Years     int64\n",
       "Marital_Status                 int64\n",
       "Product_Category               int64\n",
       "dtype: object"
      ]
     },
     "execution_count": 25,
     "metadata": {},
     "output_type": "execute_result"
    }
   ],
   "source": [
    "X.dtypes"
   ]
  },
  {
   "cell_type": "code",
   "execution_count": 26,
   "id": "4e5a1c8e",
   "metadata": {
    "execution": {
     "iopub.execute_input": "2024-06-15T07:27:49.263286Z",
     "iopub.status.busy": "2024-06-15T07:27:49.262550Z",
     "iopub.status.idle": "2024-06-15T07:27:49.269750Z",
     "shell.execute_reply": "2024-06-15T07:27:49.268824Z"
    },
    "papermill": {
     "duration": 0.028824,
     "end_time": "2024-06-15T07:27:49.271783",
     "exception": false,
     "start_time": "2024-06-15T07:27:49.242959",
     "status": "completed"
    },
    "tags": []
   },
   "outputs": [
    {
     "data": {
      "text/plain": [
       "Purchase    int64\n",
       "dtype: object"
      ]
     },
     "execution_count": 26,
     "metadata": {},
     "output_type": "execute_result"
    }
   ],
   "source": [
    "y.dtypes"
   ]
  },
  {
   "cell_type": "code",
   "execution_count": 27,
   "id": "bad1f850",
   "metadata": {
    "execution": {
     "iopub.execute_input": "2024-06-15T07:27:49.310584Z",
     "iopub.status.busy": "2024-06-15T07:27:49.309838Z",
     "iopub.status.idle": "2024-06-15T07:27:49.322385Z",
     "shell.execute_reply": "2024-06-15T07:27:49.321432Z"
    },
    "papermill": {
     "duration": 0.034068,
     "end_time": "2024-06-15T07:27:49.324334",
     "exception": false,
     "start_time": "2024-06-15T07:27:49.290266",
     "status": "completed"
    },
    "tags": []
   },
   "outputs": [
    {
     "data": {
      "text/html": [
       "<div>\n",
       "<style scoped>\n",
       "    .dataframe tbody tr th:only-of-type {\n",
       "        vertical-align: middle;\n",
       "    }\n",
       "\n",
       "    .dataframe tbody tr th {\n",
       "        vertical-align: top;\n",
       "    }\n",
       "\n",
       "    .dataframe thead th {\n",
       "        text-align: right;\n",
       "    }\n",
       "</style>\n",
       "<table border=\"1\" class=\"dataframe\">\n",
       "  <thead>\n",
       "    <tr style=\"text-align: right;\">\n",
       "      <th></th>\n",
       "      <th>Gender</th>\n",
       "      <th>Age</th>\n",
       "      <th>Occupation</th>\n",
       "      <th>City_Category</th>\n",
       "      <th>Stay_In_Current_City_Years</th>\n",
       "      <th>Marital_Status</th>\n",
       "      <th>Product_Category</th>\n",
       "    </tr>\n",
       "  </thead>\n",
       "  <tbody>\n",
       "    <tr>\n",
       "      <th>0</th>\n",
       "      <td>0</td>\n",
       "      <td>0-17</td>\n",
       "      <td>10</td>\n",
       "      <td>A</td>\n",
       "      <td>2</td>\n",
       "      <td>0</td>\n",
       "      <td>3</td>\n",
       "    </tr>\n",
       "    <tr>\n",
       "      <th>1</th>\n",
       "      <td>0</td>\n",
       "      <td>0-17</td>\n",
       "      <td>10</td>\n",
       "      <td>A</td>\n",
       "      <td>2</td>\n",
       "      <td>0</td>\n",
       "      <td>1</td>\n",
       "    </tr>\n",
       "    <tr>\n",
       "      <th>2</th>\n",
       "      <td>0</td>\n",
       "      <td>0-17</td>\n",
       "      <td>10</td>\n",
       "      <td>A</td>\n",
       "      <td>2</td>\n",
       "      <td>0</td>\n",
       "      <td>12</td>\n",
       "    </tr>\n",
       "    <tr>\n",
       "      <th>3</th>\n",
       "      <td>0</td>\n",
       "      <td>0-17</td>\n",
       "      <td>10</td>\n",
       "      <td>A</td>\n",
       "      <td>2</td>\n",
       "      <td>0</td>\n",
       "      <td>12</td>\n",
       "    </tr>\n",
       "    <tr>\n",
       "      <th>4</th>\n",
       "      <td>1</td>\n",
       "      <td>55</td>\n",
       "      <td>16</td>\n",
       "      <td>C</td>\n",
       "      <td>4</td>\n",
       "      <td>0</td>\n",
       "      <td>8</td>\n",
       "    </tr>\n",
       "    <tr>\n",
       "      <th>...</th>\n",
       "      <td>...</td>\n",
       "      <td>...</td>\n",
       "      <td>...</td>\n",
       "      <td>...</td>\n",
       "      <td>...</td>\n",
       "      <td>...</td>\n",
       "      <td>...</td>\n",
       "    </tr>\n",
       "    <tr>\n",
       "      <th>550063</th>\n",
       "      <td>1</td>\n",
       "      <td>51-55</td>\n",
       "      <td>13</td>\n",
       "      <td>B</td>\n",
       "      <td>1</td>\n",
       "      <td>1</td>\n",
       "      <td>20</td>\n",
       "    </tr>\n",
       "    <tr>\n",
       "      <th>550064</th>\n",
       "      <td>0</td>\n",
       "      <td>26-35</td>\n",
       "      <td>1</td>\n",
       "      <td>C</td>\n",
       "      <td>3</td>\n",
       "      <td>0</td>\n",
       "      <td>20</td>\n",
       "    </tr>\n",
       "    <tr>\n",
       "      <th>550065</th>\n",
       "      <td>0</td>\n",
       "      <td>26-35</td>\n",
       "      <td>15</td>\n",
       "      <td>B</td>\n",
       "      <td>4</td>\n",
       "      <td>1</td>\n",
       "      <td>20</td>\n",
       "    </tr>\n",
       "    <tr>\n",
       "      <th>550066</th>\n",
       "      <td>0</td>\n",
       "      <td>55</td>\n",
       "      <td>1</td>\n",
       "      <td>C</td>\n",
       "      <td>2</td>\n",
       "      <td>0</td>\n",
       "      <td>20</td>\n",
       "    </tr>\n",
       "    <tr>\n",
       "      <th>550067</th>\n",
       "      <td>0</td>\n",
       "      <td>46-50</td>\n",
       "      <td>0</td>\n",
       "      <td>B</td>\n",
       "      <td>4</td>\n",
       "      <td>1</td>\n",
       "      <td>20</td>\n",
       "    </tr>\n",
       "  </tbody>\n",
       "</table>\n",
       "<p>550068 rows × 7 columns</p>\n",
       "</div>"
      ],
      "text/plain": [
       "        Gender    Age  Occupation City_Category  Stay_In_Current_City_Years  \\\n",
       "0            0   0-17          10             A                           2   \n",
       "1            0   0-17          10             A                           2   \n",
       "2            0   0-17          10             A                           2   \n",
       "3            0   0-17          10             A                           2   \n",
       "4            1     55          16             C                           4   \n",
       "...        ...    ...         ...           ...                         ...   \n",
       "550063       1  51-55          13             B                           1   \n",
       "550064       0  26-35           1             C                           3   \n",
       "550065       0  26-35          15             B                           4   \n",
       "550066       0     55           1             C                           2   \n",
       "550067       0  46-50           0             B                           4   \n",
       "\n",
       "        Marital_Status  Product_Category  \n",
       "0                    0                 3  \n",
       "1                    0                 1  \n",
       "2                    0                12  \n",
       "3                    0                12  \n",
       "4                    0                 8  \n",
       "...                ...               ...  \n",
       "550063               1                20  \n",
       "550064               0                20  \n",
       "550065               1                20  \n",
       "550066               0                20  \n",
       "550067               1                20  \n",
       "\n",
       "[550068 rows x 7 columns]"
      ]
     },
     "execution_count": 27,
     "metadata": {},
     "output_type": "execute_result"
    }
   ],
   "source": [
    "X"
   ]
  },
  {
   "cell_type": "code",
   "execution_count": 28,
   "id": "b9749072",
   "metadata": {
    "execution": {
     "iopub.execute_input": "2024-06-15T07:27:49.365357Z",
     "iopub.status.busy": "2024-06-15T07:27:49.364080Z",
     "iopub.status.idle": "2024-06-15T07:27:52.764487Z",
     "shell.execute_reply": "2024-06-15T07:27:52.763414Z"
    },
    "papermill": {
     "duration": 3.423658,
     "end_time": "2024-06-15T07:27:52.766984",
     "exception": false,
     "start_time": "2024-06-15T07:27:49.343326",
     "status": "completed"
    },
    "tags": []
   },
   "outputs": [],
   "source": [
    "class FeatureEncoder(BaseEstimator, TransformerMixin):\n",
    "    \n",
    "    def fit(self, X, y=None):\n",
    "        return self\n",
    "    \n",
    "    def transform(self, X):\n",
    "        #Age Numeric\n",
    "        age_dct = {\"0-17\": 0, \"18-25\": 1, \"26-35\": 2, \"36-45\": 3, \"46-50\": 4, \"51-55\": 5, \"55+\": 6}\n",
    "        X = X.copy()  # Avoid SettingWithCopyWarning\n",
    "        X[\"Age\"] = X[\"Age\"].map(age_dct)\n",
    "                \n",
    "        #City_Category One Hot Encoding\n",
    "        ohe = OneHotEncoder()\n",
    "        matrix = ohe.fit_transform(X[[\"City_Category\"]]).toarray()\n",
    "        \n",
    "        column_names = [\"City_Cat_A\", \"City_Cat_B\", \"City_Cat_C\"]\n",
    "        \n",
    "        for i in range(len(matrix.T)):\n",
    "            X[column_names[i]] = matrix.T[i]\n",
    "        \n",
    "        X = X.drop(columns = [\"City_Category\"], axis=1)\n",
    "        \n",
    "        #Occupation One Hot Encoding\n",
    "        ohe = OneHotEncoder()\n",
    "        matrix = ohe.fit_transform(X[[\"Occupation\"]]).toarray()\n",
    "        \n",
    "        column_names = [\"Occupation_\" + str(i) for i in range(21)]\n",
    "        \n",
    "        for i in range(len(matrix.T)):\n",
    "            X[column_names[i]] = matrix.T[i]\n",
    "            \n",
    "        X = X.drop(columns = [\"Occupation\"], axis=1)\n",
    "        \n",
    "        #Product_Category One Hot Encoding\n",
    "        ohe = OneHotEncoder()\n",
    "        matrix = ohe.fit_transform(X[[\"Product_Category\"]]).toarray()\n",
    "        \n",
    "        column_names = [\"Product_Category_\" + str(i) for i in range(20)]\n",
    "        \n",
    "        for i in range(len(matrix.T)):\n",
    "            X[column_names[i]] = matrix.T[i]\n",
    "            \n",
    "        X = X.drop(columns = [\"Product_Category\"], axis=1)\n",
    "        \n",
    "        return X\n",
    "\n",
    "# Define the pipeline\n",
    "prepipe = Pipeline([\n",
    "    ('preprocessor', FeatureEncoder()),\n",
    "    ('encoder', OneHotEncoder())\n",
    "])\n",
    "\n",
    "# Fit the pipeline\n",
    "X= prepipe.fit_transform(X)"
   ]
  },
  {
   "cell_type": "code",
   "execution_count": 29,
   "id": "4f5db8de",
   "metadata": {
    "execution": {
     "iopub.execute_input": "2024-06-15T07:27:52.807673Z",
     "iopub.status.busy": "2024-06-15T07:27:52.806802Z",
     "iopub.status.idle": "2024-06-15T07:27:53.515733Z",
     "shell.execute_reply": "2024-06-15T07:27:53.514700Z"
    },
    "papermill": {
     "duration": 0.731111,
     "end_time": "2024-06-15T07:27:53.517800",
     "exception": false,
     "start_time": "2024-06-15T07:27:52.786689",
     "status": "completed"
    },
    "tags": []
   },
   "outputs": [
    {
     "data": {
      "text/html": [
       "<div>\n",
       "<style scoped>\n",
       "    .dataframe tbody tr th:only-of-type {\n",
       "        vertical-align: middle;\n",
       "    }\n",
       "\n",
       "    .dataframe tbody tr th {\n",
       "        vertical-align: top;\n",
       "    }\n",
       "\n",
       "    .dataframe thead th {\n",
       "        text-align: right;\n",
       "    }\n",
       "</style>\n",
       "<table border=\"1\" class=\"dataframe\">\n",
       "  <thead>\n",
       "    <tr style=\"text-align: right;\">\n",
       "      <th></th>\n",
       "      <th>0</th>\n",
       "      <th>1</th>\n",
       "      <th>2</th>\n",
       "      <th>3</th>\n",
       "      <th>4</th>\n",
       "      <th>5</th>\n",
       "      <th>6</th>\n",
       "      <th>7</th>\n",
       "      <th>8</th>\n",
       "      <th>9</th>\n",
       "      <th>...</th>\n",
       "      <th>94</th>\n",
       "      <th>95</th>\n",
       "      <th>96</th>\n",
       "      <th>97</th>\n",
       "      <th>98</th>\n",
       "      <th>99</th>\n",
       "      <th>100</th>\n",
       "      <th>101</th>\n",
       "      <th>102</th>\n",
       "      <th>103</th>\n",
       "    </tr>\n",
       "  </thead>\n",
       "  <tbody>\n",
       "    <tr>\n",
       "      <th>0</th>\n",
       "      <td>1.0</td>\n",
       "      <td>0.0</td>\n",
       "      <td>1.0</td>\n",
       "      <td>0.0</td>\n",
       "      <td>0.0</td>\n",
       "      <td>0.0</td>\n",
       "      <td>0.0</td>\n",
       "      <td>0.0</td>\n",
       "      <td>0.0</td>\n",
       "      <td>0.0</td>\n",
       "      <td>...</td>\n",
       "      <td>1.0</td>\n",
       "      <td>0.0</td>\n",
       "      <td>1.0</td>\n",
       "      <td>0.0</td>\n",
       "      <td>1.0</td>\n",
       "      <td>0.0</td>\n",
       "      <td>1.0</td>\n",
       "      <td>0.0</td>\n",
       "      <td>1.0</td>\n",
       "      <td>0.0</td>\n",
       "    </tr>\n",
       "    <tr>\n",
       "      <th>1</th>\n",
       "      <td>1.0</td>\n",
       "      <td>0.0</td>\n",
       "      <td>1.0</td>\n",
       "      <td>0.0</td>\n",
       "      <td>0.0</td>\n",
       "      <td>0.0</td>\n",
       "      <td>0.0</td>\n",
       "      <td>0.0</td>\n",
       "      <td>0.0</td>\n",
       "      <td>0.0</td>\n",
       "      <td>...</td>\n",
       "      <td>1.0</td>\n",
       "      <td>0.0</td>\n",
       "      <td>1.0</td>\n",
       "      <td>0.0</td>\n",
       "      <td>1.0</td>\n",
       "      <td>0.0</td>\n",
       "      <td>1.0</td>\n",
       "      <td>0.0</td>\n",
       "      <td>1.0</td>\n",
       "      <td>0.0</td>\n",
       "    </tr>\n",
       "    <tr>\n",
       "      <th>2</th>\n",
       "      <td>1.0</td>\n",
       "      <td>0.0</td>\n",
       "      <td>1.0</td>\n",
       "      <td>0.0</td>\n",
       "      <td>0.0</td>\n",
       "      <td>0.0</td>\n",
       "      <td>0.0</td>\n",
       "      <td>0.0</td>\n",
       "      <td>0.0</td>\n",
       "      <td>0.0</td>\n",
       "      <td>...</td>\n",
       "      <td>1.0</td>\n",
       "      <td>0.0</td>\n",
       "      <td>1.0</td>\n",
       "      <td>0.0</td>\n",
       "      <td>1.0</td>\n",
       "      <td>0.0</td>\n",
       "      <td>1.0</td>\n",
       "      <td>0.0</td>\n",
       "      <td>1.0</td>\n",
       "      <td>0.0</td>\n",
       "    </tr>\n",
       "    <tr>\n",
       "      <th>3</th>\n",
       "      <td>1.0</td>\n",
       "      <td>0.0</td>\n",
       "      <td>1.0</td>\n",
       "      <td>0.0</td>\n",
       "      <td>0.0</td>\n",
       "      <td>0.0</td>\n",
       "      <td>0.0</td>\n",
       "      <td>0.0</td>\n",
       "      <td>0.0</td>\n",
       "      <td>0.0</td>\n",
       "      <td>...</td>\n",
       "      <td>1.0</td>\n",
       "      <td>0.0</td>\n",
       "      <td>1.0</td>\n",
       "      <td>0.0</td>\n",
       "      <td>1.0</td>\n",
       "      <td>0.0</td>\n",
       "      <td>1.0</td>\n",
       "      <td>0.0</td>\n",
       "      <td>1.0</td>\n",
       "      <td>0.0</td>\n",
       "    </tr>\n",
       "    <tr>\n",
       "      <th>4</th>\n",
       "      <td>0.0</td>\n",
       "      <td>1.0</td>\n",
       "      <td>0.0</td>\n",
       "      <td>0.0</td>\n",
       "      <td>0.0</td>\n",
       "      <td>0.0</td>\n",
       "      <td>0.0</td>\n",
       "      <td>0.0</td>\n",
       "      <td>1.0</td>\n",
       "      <td>0.0</td>\n",
       "      <td>...</td>\n",
       "      <td>1.0</td>\n",
       "      <td>0.0</td>\n",
       "      <td>1.0</td>\n",
       "      <td>0.0</td>\n",
       "      <td>1.0</td>\n",
       "      <td>0.0</td>\n",
       "      <td>1.0</td>\n",
       "      <td>0.0</td>\n",
       "      <td>1.0</td>\n",
       "      <td>0.0</td>\n",
       "    </tr>\n",
       "  </tbody>\n",
       "</table>\n",
       "<p>5 rows × 104 columns</p>\n",
       "</div>"
      ],
      "text/plain": [
       "   0    1    2    3    4    5    6    7    8    9    ...  94   95   96   97   \\\n",
       "0  1.0  0.0  1.0  0.0  0.0  0.0  0.0  0.0  0.0  0.0  ...  1.0  0.0  1.0  0.0   \n",
       "1  1.0  0.0  1.0  0.0  0.0  0.0  0.0  0.0  0.0  0.0  ...  1.0  0.0  1.0  0.0   \n",
       "2  1.0  0.0  1.0  0.0  0.0  0.0  0.0  0.0  0.0  0.0  ...  1.0  0.0  1.0  0.0   \n",
       "3  1.0  0.0  1.0  0.0  0.0  0.0  0.0  0.0  0.0  0.0  ...  1.0  0.0  1.0  0.0   \n",
       "4  0.0  1.0  0.0  0.0  0.0  0.0  0.0  0.0  1.0  0.0  ...  1.0  0.0  1.0  0.0   \n",
       "\n",
       "   98   99   100  101  102  103  \n",
       "0  1.0  0.0  1.0  0.0  1.0  0.0  \n",
       "1  1.0  0.0  1.0  0.0  1.0  0.0  \n",
       "2  1.0  0.0  1.0  0.0  1.0  0.0  \n",
       "3  1.0  0.0  1.0  0.0  1.0  0.0  \n",
       "4  1.0  0.0  1.0  0.0  1.0  0.0  \n",
       "\n",
       "[5 rows x 104 columns]"
      ]
     },
     "execution_count": 29,
     "metadata": {},
     "output_type": "execute_result"
    }
   ],
   "source": [
    "X = pd.DataFrame(X.toarray())\n",
    "X.head()"
   ]
  },
  {
   "cell_type": "code",
   "execution_count": 30,
   "id": "a5d2aed5",
   "metadata": {
    "execution": {
     "iopub.execute_input": "2024-06-15T07:27:53.560516Z",
     "iopub.status.busy": "2024-06-15T07:27:53.559570Z",
     "iopub.status.idle": "2024-06-15T07:27:53.595503Z",
     "shell.execute_reply": "2024-06-15T07:27:53.594512Z"
    },
    "papermill": {
     "duration": 0.060144,
     "end_time": "2024-06-15T07:27:53.597573",
     "exception": false,
     "start_time": "2024-06-15T07:27:53.537429",
     "status": "completed"
    },
    "tags": []
   },
   "outputs": [
    {
     "data": {
      "text/html": [
       "<div>\n",
       "<style scoped>\n",
       "    .dataframe tbody tr th:only-of-type {\n",
       "        vertical-align: middle;\n",
       "    }\n",
       "\n",
       "    .dataframe tbody tr th {\n",
       "        vertical-align: top;\n",
       "    }\n",
       "\n",
       "    .dataframe thead th {\n",
       "        text-align: right;\n",
       "    }\n",
       "</style>\n",
       "<table border=\"1\" class=\"dataframe\">\n",
       "  <thead>\n",
       "    <tr style=\"text-align: right;\">\n",
       "      <th></th>\n",
       "      <th>0</th>\n",
       "    </tr>\n",
       "  </thead>\n",
       "  <tbody>\n",
       "    <tr>\n",
       "      <th>0</th>\n",
       "      <td>0.051838</td>\n",
       "    </tr>\n",
       "    <tr>\n",
       "      <th>1</th>\n",
       "      <td>1.147970</td>\n",
       "    </tr>\n",
       "    <tr>\n",
       "      <th>2</th>\n",
       "      <td>-1.063232</td>\n",
       "    </tr>\n",
       "    <tr>\n",
       "      <th>3</th>\n",
       "      <td>-1.121810</td>\n",
       "    </tr>\n",
       "    <tr>\n",
       "      <th>4</th>\n",
       "      <td>-0.012518</td>\n",
       "    </tr>\n",
       "    <tr>\n",
       "      <th>...</th>\n",
       "      <td>...</td>\n",
       "    </tr>\n",
       "    <tr>\n",
       "      <th>550063</th>\n",
       "      <td>-1.232386</td>\n",
       "    </tr>\n",
       "    <tr>\n",
       "      <th>550064</th>\n",
       "      <td>-1.231905</td>\n",
       "    </tr>\n",
       "    <tr>\n",
       "      <th>550065</th>\n",
       "      <td>-1.269459</td>\n",
       "    </tr>\n",
       "    <tr>\n",
       "      <th>550066</th>\n",
       "      <td>-1.232868</td>\n",
       "    </tr>\n",
       "    <tr>\n",
       "      <th>550067</th>\n",
       "      <td>-1.212807</td>\n",
       "    </tr>\n",
       "  </tbody>\n",
       "</table>\n",
       "<p>550068 rows × 1 columns</p>\n",
       "</div>"
      ],
      "text/plain": [
       "               0\n",
       "0       0.051838\n",
       "1       1.147970\n",
       "2      -1.063232\n",
       "3      -1.121810\n",
       "4      -0.012518\n",
       "...          ...\n",
       "550063 -1.232386\n",
       "550064 -1.231905\n",
       "550065 -1.269459\n",
       "550066 -1.232868\n",
       "550067 -1.212807\n",
       "\n",
       "[550068 rows x 1 columns]"
      ]
     },
     "execution_count": 30,
     "metadata": {},
     "output_type": "execute_result"
    }
   ],
   "source": [
    "scaler = RobustScaler().fit(y)\n",
    "y = scaler.transform(y)\n",
    "y = pd.DataFrame(y)\n",
    "y"
   ]
  },
  {
   "cell_type": "markdown",
   "id": "83fac2fa",
   "metadata": {
    "papermill": {
     "duration": 0.01909,
     "end_time": "2024-06-15T07:27:53.636080",
     "exception": false,
     "start_time": "2024-06-15T07:27:53.616990",
     "status": "completed"
    },
    "tags": []
   },
   "source": [
    "# **Splitting Data into Train and Test Data**"
   ]
  },
  {
   "cell_type": "code",
   "execution_count": 31,
   "id": "eee78401",
   "metadata": {
    "execution": {
     "iopub.execute_input": "2024-06-15T07:27:53.676596Z",
     "iopub.status.busy": "2024-06-15T07:27:53.675863Z",
     "iopub.status.idle": "2024-06-15T07:27:53.922886Z",
     "shell.execute_reply": "2024-06-15T07:27:53.921775Z"
    },
    "papermill": {
     "duration": 0.270054,
     "end_time": "2024-06-15T07:27:53.925509",
     "exception": false,
     "start_time": "2024-06-15T07:27:53.655455",
     "status": "completed"
    },
    "tags": []
   },
   "outputs": [],
   "source": [
    "X_train, X_test, y_train, y_test = train_test_split(X, y, test_size=0.2, random_state=42)"
   ]
  },
  {
   "cell_type": "code",
   "execution_count": 32,
   "id": "311dcd17",
   "metadata": {
    "execution": {
     "iopub.execute_input": "2024-06-15T07:27:53.966718Z",
     "iopub.status.busy": "2024-06-15T07:27:53.965946Z",
     "iopub.status.idle": "2024-06-15T07:27:54.187726Z",
     "shell.execute_reply": "2024-06-15T07:27:54.186874Z"
    },
    "papermill": {
     "duration": 0.244772,
     "end_time": "2024-06-15T07:27:54.190032",
     "exception": false,
     "start_time": "2024-06-15T07:27:53.945260",
     "status": "completed"
    },
    "tags": []
   },
   "outputs": [
    {
     "data": {
      "text/html": [
       "<div>\n",
       "<style scoped>\n",
       "    .dataframe tbody tr th:only-of-type {\n",
       "        vertical-align: middle;\n",
       "    }\n",
       "\n",
       "    .dataframe tbody tr th {\n",
       "        vertical-align: top;\n",
       "    }\n",
       "\n",
       "    .dataframe thead th {\n",
       "        text-align: right;\n",
       "    }\n",
       "</style>\n",
       "<table border=\"1\" class=\"dataframe\">\n",
       "  <thead>\n",
       "    <tr style=\"text-align: right;\">\n",
       "      <th></th>\n",
       "      <th>0</th>\n",
       "      <th>1</th>\n",
       "      <th>2</th>\n",
       "      <th>3</th>\n",
       "      <th>4</th>\n",
       "      <th>5</th>\n",
       "      <th>6</th>\n",
       "      <th>7</th>\n",
       "      <th>8</th>\n",
       "      <th>9</th>\n",
       "      <th>...</th>\n",
       "      <th>94</th>\n",
       "      <th>95</th>\n",
       "      <th>96</th>\n",
       "      <th>97</th>\n",
       "      <th>98</th>\n",
       "      <th>99</th>\n",
       "      <th>100</th>\n",
       "      <th>101</th>\n",
       "      <th>102</th>\n",
       "      <th>103</th>\n",
       "    </tr>\n",
       "  </thead>\n",
       "  <tbody>\n",
       "    <tr>\n",
       "      <th>178247</th>\n",
       "      <td>0.0</td>\n",
       "      <td>1.0</td>\n",
       "      <td>0.0</td>\n",
       "      <td>0.0</td>\n",
       "      <td>0.0</td>\n",
       "      <td>0.0</td>\n",
       "      <td>0.0</td>\n",
       "      <td>1.0</td>\n",
       "      <td>0.0</td>\n",
       "      <td>0.0</td>\n",
       "      <td>...</td>\n",
       "      <td>1.0</td>\n",
       "      <td>0.0</td>\n",
       "      <td>1.0</td>\n",
       "      <td>0.0</td>\n",
       "      <td>1.0</td>\n",
       "      <td>0.0</td>\n",
       "      <td>1.0</td>\n",
       "      <td>0.0</td>\n",
       "      <td>1.0</td>\n",
       "      <td>0.0</td>\n",
       "    </tr>\n",
       "    <tr>\n",
       "      <th>196647</th>\n",
       "      <td>0.0</td>\n",
       "      <td>1.0</td>\n",
       "      <td>0.0</td>\n",
       "      <td>1.0</td>\n",
       "      <td>0.0</td>\n",
       "      <td>0.0</td>\n",
       "      <td>0.0</td>\n",
       "      <td>0.0</td>\n",
       "      <td>0.0</td>\n",
       "      <td>0.0</td>\n",
       "      <td>...</td>\n",
       "      <td>1.0</td>\n",
       "      <td>0.0</td>\n",
       "      <td>1.0</td>\n",
       "      <td>0.0</td>\n",
       "      <td>1.0</td>\n",
       "      <td>0.0</td>\n",
       "      <td>1.0</td>\n",
       "      <td>0.0</td>\n",
       "      <td>1.0</td>\n",
       "      <td>0.0</td>\n",
       "    </tr>\n",
       "    <tr>\n",
       "      <th>418590</th>\n",
       "      <td>0.0</td>\n",
       "      <td>1.0</td>\n",
       "      <td>0.0</td>\n",
       "      <td>0.0</td>\n",
       "      <td>1.0</td>\n",
       "      <td>0.0</td>\n",
       "      <td>0.0</td>\n",
       "      <td>0.0</td>\n",
       "      <td>0.0</td>\n",
       "      <td>0.0</td>\n",
       "      <td>...</td>\n",
       "      <td>1.0</td>\n",
       "      <td>0.0</td>\n",
       "      <td>1.0</td>\n",
       "      <td>0.0</td>\n",
       "      <td>1.0</td>\n",
       "      <td>0.0</td>\n",
       "      <td>1.0</td>\n",
       "      <td>0.0</td>\n",
       "      <td>1.0</td>\n",
       "      <td>0.0</td>\n",
       "    </tr>\n",
       "    <tr>\n",
       "      <th>408727</th>\n",
       "      <td>0.0</td>\n",
       "      <td>1.0</td>\n",
       "      <td>0.0</td>\n",
       "      <td>1.0</td>\n",
       "      <td>0.0</td>\n",
       "      <td>0.0</td>\n",
       "      <td>0.0</td>\n",
       "      <td>0.0</td>\n",
       "      <td>0.0</td>\n",
       "      <td>0.0</td>\n",
       "      <td>...</td>\n",
       "      <td>1.0</td>\n",
       "      <td>0.0</td>\n",
       "      <td>1.0</td>\n",
       "      <td>0.0</td>\n",
       "      <td>1.0</td>\n",
       "      <td>0.0</td>\n",
       "      <td>1.0</td>\n",
       "      <td>0.0</td>\n",
       "      <td>1.0</td>\n",
       "      <td>0.0</td>\n",
       "    </tr>\n",
       "    <tr>\n",
       "      <th>216416</th>\n",
       "      <td>0.0</td>\n",
       "      <td>1.0</td>\n",
       "      <td>0.0</td>\n",
       "      <td>1.0</td>\n",
       "      <td>0.0</td>\n",
       "      <td>0.0</td>\n",
       "      <td>0.0</td>\n",
       "      <td>0.0</td>\n",
       "      <td>0.0</td>\n",
       "      <td>0.0</td>\n",
       "      <td>...</td>\n",
       "      <td>1.0</td>\n",
       "      <td>0.0</td>\n",
       "      <td>1.0</td>\n",
       "      <td>0.0</td>\n",
       "      <td>1.0</td>\n",
       "      <td>0.0</td>\n",
       "      <td>1.0</td>\n",
       "      <td>0.0</td>\n",
       "      <td>1.0</td>\n",
       "      <td>0.0</td>\n",
       "    </tr>\n",
       "    <tr>\n",
       "      <th>...</th>\n",
       "      <td>...</td>\n",
       "      <td>...</td>\n",
       "      <td>...</td>\n",
       "      <td>...</td>\n",
       "      <td>...</td>\n",
       "      <td>...</td>\n",
       "      <td>...</td>\n",
       "      <td>...</td>\n",
       "      <td>...</td>\n",
       "      <td>...</td>\n",
       "      <td>...</td>\n",
       "      <td>...</td>\n",
       "      <td>...</td>\n",
       "      <td>...</td>\n",
       "      <td>...</td>\n",
       "      <td>...</td>\n",
       "      <td>...</td>\n",
       "      <td>...</td>\n",
       "      <td>...</td>\n",
       "      <td>...</td>\n",
       "      <td>...</td>\n",
       "    </tr>\n",
       "    <tr>\n",
       "      <th>110268</th>\n",
       "      <td>0.0</td>\n",
       "      <td>1.0</td>\n",
       "      <td>0.0</td>\n",
       "      <td>0.0</td>\n",
       "      <td>0.0</td>\n",
       "      <td>0.0</td>\n",
       "      <td>1.0</td>\n",
       "      <td>0.0</td>\n",
       "      <td>0.0</td>\n",
       "      <td>0.0</td>\n",
       "      <td>...</td>\n",
       "      <td>1.0</td>\n",
       "      <td>0.0</td>\n",
       "      <td>1.0</td>\n",
       "      <td>0.0</td>\n",
       "      <td>1.0</td>\n",
       "      <td>0.0</td>\n",
       "      <td>1.0</td>\n",
       "      <td>0.0</td>\n",
       "      <td>1.0</td>\n",
       "      <td>0.0</td>\n",
       "    </tr>\n",
       "    <tr>\n",
       "      <th>259178</th>\n",
       "      <td>0.0</td>\n",
       "      <td>1.0</td>\n",
       "      <td>0.0</td>\n",
       "      <td>0.0</td>\n",
       "      <td>1.0</td>\n",
       "      <td>0.0</td>\n",
       "      <td>0.0</td>\n",
       "      <td>0.0</td>\n",
       "      <td>0.0</td>\n",
       "      <td>0.0</td>\n",
       "      <td>...</td>\n",
       "      <td>1.0</td>\n",
       "      <td>0.0</td>\n",
       "      <td>1.0</td>\n",
       "      <td>0.0</td>\n",
       "      <td>1.0</td>\n",
       "      <td>0.0</td>\n",
       "      <td>1.0</td>\n",
       "      <td>0.0</td>\n",
       "      <td>1.0</td>\n",
       "      <td>0.0</td>\n",
       "    </tr>\n",
       "    <tr>\n",
       "      <th>365838</th>\n",
       "      <td>1.0</td>\n",
       "      <td>0.0</td>\n",
       "      <td>0.0</td>\n",
       "      <td>1.0</td>\n",
       "      <td>0.0</td>\n",
       "      <td>0.0</td>\n",
       "      <td>0.0</td>\n",
       "      <td>0.0</td>\n",
       "      <td>0.0</td>\n",
       "      <td>0.0</td>\n",
       "      <td>...</td>\n",
       "      <td>1.0</td>\n",
       "      <td>0.0</td>\n",
       "      <td>1.0</td>\n",
       "      <td>0.0</td>\n",
       "      <td>1.0</td>\n",
       "      <td>0.0</td>\n",
       "      <td>1.0</td>\n",
       "      <td>0.0</td>\n",
       "      <td>1.0</td>\n",
       "      <td>0.0</td>\n",
       "    </tr>\n",
       "    <tr>\n",
       "      <th>131932</th>\n",
       "      <td>1.0</td>\n",
       "      <td>0.0</td>\n",
       "      <td>0.0</td>\n",
       "      <td>1.0</td>\n",
       "      <td>0.0</td>\n",
       "      <td>0.0</td>\n",
       "      <td>0.0</td>\n",
       "      <td>0.0</td>\n",
       "      <td>0.0</td>\n",
       "      <td>0.0</td>\n",
       "      <td>...</td>\n",
       "      <td>1.0</td>\n",
       "      <td>0.0</td>\n",
       "      <td>1.0</td>\n",
       "      <td>0.0</td>\n",
       "      <td>1.0</td>\n",
       "      <td>0.0</td>\n",
       "      <td>1.0</td>\n",
       "      <td>0.0</td>\n",
       "      <td>1.0</td>\n",
       "      <td>0.0</td>\n",
       "    </tr>\n",
       "    <tr>\n",
       "      <th>121958</th>\n",
       "      <td>1.0</td>\n",
       "      <td>0.0</td>\n",
       "      <td>0.0</td>\n",
       "      <td>1.0</td>\n",
       "      <td>0.0</td>\n",
       "      <td>0.0</td>\n",
       "      <td>0.0</td>\n",
       "      <td>0.0</td>\n",
       "      <td>0.0</td>\n",
       "      <td>0.0</td>\n",
       "      <td>...</td>\n",
       "      <td>1.0</td>\n",
       "      <td>0.0</td>\n",
       "      <td>1.0</td>\n",
       "      <td>0.0</td>\n",
       "      <td>1.0</td>\n",
       "      <td>0.0</td>\n",
       "      <td>1.0</td>\n",
       "      <td>0.0</td>\n",
       "      <td>1.0</td>\n",
       "      <td>0.0</td>\n",
       "    </tr>\n",
       "  </tbody>\n",
       "</table>\n",
       "<p>440054 rows × 104 columns</p>\n",
       "</div>"
      ],
      "text/plain": [
       "        0    1    2    3    4    5    6    7    8    9    ...  94   95   96   \\\n",
       "178247  0.0  1.0  0.0  0.0  0.0  0.0  0.0  1.0  0.0  0.0  ...  1.0  0.0  1.0   \n",
       "196647  0.0  1.0  0.0  1.0  0.0  0.0  0.0  0.0  0.0  0.0  ...  1.0  0.0  1.0   \n",
       "418590  0.0  1.0  0.0  0.0  1.0  0.0  0.0  0.0  0.0  0.0  ...  1.0  0.0  1.0   \n",
       "408727  0.0  1.0  0.0  1.0  0.0  0.0  0.0  0.0  0.0  0.0  ...  1.0  0.0  1.0   \n",
       "216416  0.0  1.0  0.0  1.0  0.0  0.0  0.0  0.0  0.0  0.0  ...  1.0  0.0  1.0   \n",
       "...     ...  ...  ...  ...  ...  ...  ...  ...  ...  ...  ...  ...  ...  ...   \n",
       "110268  0.0  1.0  0.0  0.0  0.0  0.0  1.0  0.0  0.0  0.0  ...  1.0  0.0  1.0   \n",
       "259178  0.0  1.0  0.0  0.0  1.0  0.0  0.0  0.0  0.0  0.0  ...  1.0  0.0  1.0   \n",
       "365838  1.0  0.0  0.0  1.0  0.0  0.0  0.0  0.0  0.0  0.0  ...  1.0  0.0  1.0   \n",
       "131932  1.0  0.0  0.0  1.0  0.0  0.0  0.0  0.0  0.0  0.0  ...  1.0  0.0  1.0   \n",
       "121958  1.0  0.0  0.0  1.0  0.0  0.0  0.0  0.0  0.0  0.0  ...  1.0  0.0  1.0   \n",
       "\n",
       "        97   98   99   100  101  102  103  \n",
       "178247  0.0  1.0  0.0  1.0  0.0  1.0  0.0  \n",
       "196647  0.0  1.0  0.0  1.0  0.0  1.0  0.0  \n",
       "418590  0.0  1.0  0.0  1.0  0.0  1.0  0.0  \n",
       "408727  0.0  1.0  0.0  1.0  0.0  1.0  0.0  \n",
       "216416  0.0  1.0  0.0  1.0  0.0  1.0  0.0  \n",
       "...     ...  ...  ...  ...  ...  ...  ...  \n",
       "110268  0.0  1.0  0.0  1.0  0.0  1.0  0.0  \n",
       "259178  0.0  1.0  0.0  1.0  0.0  1.0  0.0  \n",
       "365838  0.0  1.0  0.0  1.0  0.0  1.0  0.0  \n",
       "131932  0.0  1.0  0.0  1.0  0.0  1.0  0.0  \n",
       "121958  0.0  1.0  0.0  1.0  0.0  1.0  0.0  \n",
       "\n",
       "[440054 rows x 104 columns]"
      ]
     },
     "execution_count": 32,
     "metadata": {},
     "output_type": "execute_result"
    }
   ],
   "source": [
    "X_train"
   ]
  },
  {
   "cell_type": "code",
   "execution_count": 33,
   "id": "55c5fbf2",
   "metadata": {
    "execution": {
     "iopub.execute_input": "2024-06-15T07:27:54.231579Z",
     "iopub.status.busy": "2024-06-15T07:27:54.231204Z",
     "iopub.status.idle": "2024-06-15T07:27:54.295755Z",
     "shell.execute_reply": "2024-06-15T07:27:54.294738Z"
    },
    "papermill": {
     "duration": 0.087633,
     "end_time": "2024-06-15T07:27:54.297802",
     "exception": false,
     "start_time": "2024-06-15T07:27:54.210169",
     "status": "completed"
    },
    "tags": []
   },
   "outputs": [
    {
     "data": {
      "text/html": [
       "<div>\n",
       "<style scoped>\n",
       "    .dataframe tbody tr th:only-of-type {\n",
       "        vertical-align: middle;\n",
       "    }\n",
       "\n",
       "    .dataframe tbody tr th {\n",
       "        vertical-align: top;\n",
       "    }\n",
       "\n",
       "    .dataframe thead th {\n",
       "        text-align: right;\n",
       "    }\n",
       "</style>\n",
       "<table border=\"1\" class=\"dataframe\">\n",
       "  <thead>\n",
       "    <tr style=\"text-align: right;\">\n",
       "      <th></th>\n",
       "      <th>0</th>\n",
       "      <th>1</th>\n",
       "      <th>2</th>\n",
       "      <th>3</th>\n",
       "      <th>4</th>\n",
       "      <th>5</th>\n",
       "      <th>6</th>\n",
       "      <th>7</th>\n",
       "      <th>8</th>\n",
       "      <th>9</th>\n",
       "      <th>...</th>\n",
       "      <th>94</th>\n",
       "      <th>95</th>\n",
       "      <th>96</th>\n",
       "      <th>97</th>\n",
       "      <th>98</th>\n",
       "      <th>99</th>\n",
       "      <th>100</th>\n",
       "      <th>101</th>\n",
       "      <th>102</th>\n",
       "      <th>103</th>\n",
       "    </tr>\n",
       "  </thead>\n",
       "  <tbody>\n",
       "    <tr>\n",
       "      <th>84432</th>\n",
       "      <td>0.0</td>\n",
       "      <td>1.0</td>\n",
       "      <td>0.0</td>\n",
       "      <td>0.0</td>\n",
       "      <td>0.0</td>\n",
       "      <td>0.0</td>\n",
       "      <td>0.0</td>\n",
       "      <td>1.0</td>\n",
       "      <td>0.0</td>\n",
       "      <td>0.0</td>\n",
       "      <td>...</td>\n",
       "      <td>1.0</td>\n",
       "      <td>0.0</td>\n",
       "      <td>1.0</td>\n",
       "      <td>0.0</td>\n",
       "      <td>1.0</td>\n",
       "      <td>0.0</td>\n",
       "      <td>1.0</td>\n",
       "      <td>0.0</td>\n",
       "      <td>1.0</td>\n",
       "      <td>0.0</td>\n",
       "    </tr>\n",
       "    <tr>\n",
       "      <th>72724</th>\n",
       "      <td>1.0</td>\n",
       "      <td>0.0</td>\n",
       "      <td>0.0</td>\n",
       "      <td>0.0</td>\n",
       "      <td>0.0</td>\n",
       "      <td>1.0</td>\n",
       "      <td>0.0</td>\n",
       "      <td>0.0</td>\n",
       "      <td>0.0</td>\n",
       "      <td>0.0</td>\n",
       "      <td>...</td>\n",
       "      <td>1.0</td>\n",
       "      <td>0.0</td>\n",
       "      <td>1.0</td>\n",
       "      <td>0.0</td>\n",
       "      <td>1.0</td>\n",
       "      <td>0.0</td>\n",
       "      <td>1.0</td>\n",
       "      <td>0.0</td>\n",
       "      <td>1.0</td>\n",
       "      <td>0.0</td>\n",
       "    </tr>\n",
       "    <tr>\n",
       "      <th>197032</th>\n",
       "      <td>1.0</td>\n",
       "      <td>0.0</td>\n",
       "      <td>0.0</td>\n",
       "      <td>0.0</td>\n",
       "      <td>0.0</td>\n",
       "      <td>1.0</td>\n",
       "      <td>0.0</td>\n",
       "      <td>0.0</td>\n",
       "      <td>0.0</td>\n",
       "      <td>0.0</td>\n",
       "      <td>...</td>\n",
       "      <td>1.0</td>\n",
       "      <td>0.0</td>\n",
       "      <td>1.0</td>\n",
       "      <td>0.0</td>\n",
       "      <td>1.0</td>\n",
       "      <td>0.0</td>\n",
       "      <td>1.0</td>\n",
       "      <td>0.0</td>\n",
       "      <td>1.0</td>\n",
       "      <td>0.0</td>\n",
       "    </tr>\n",
       "    <tr>\n",
       "      <th>353704</th>\n",
       "      <td>0.0</td>\n",
       "      <td>1.0</td>\n",
       "      <td>0.0</td>\n",
       "      <td>1.0</td>\n",
       "      <td>0.0</td>\n",
       "      <td>0.0</td>\n",
       "      <td>0.0</td>\n",
       "      <td>0.0</td>\n",
       "      <td>0.0</td>\n",
       "      <td>0.0</td>\n",
       "      <td>...</td>\n",
       "      <td>1.0</td>\n",
       "      <td>0.0</td>\n",
       "      <td>1.0</td>\n",
       "      <td>0.0</td>\n",
       "      <td>1.0</td>\n",
       "      <td>0.0</td>\n",
       "      <td>1.0</td>\n",
       "      <td>0.0</td>\n",
       "      <td>1.0</td>\n",
       "      <td>0.0</td>\n",
       "    </tr>\n",
       "    <tr>\n",
       "      <th>91198</th>\n",
       "      <td>0.0</td>\n",
       "      <td>1.0</td>\n",
       "      <td>0.0</td>\n",
       "      <td>1.0</td>\n",
       "      <td>0.0</td>\n",
       "      <td>0.0</td>\n",
       "      <td>0.0</td>\n",
       "      <td>0.0</td>\n",
       "      <td>0.0</td>\n",
       "      <td>1.0</td>\n",
       "      <td>...</td>\n",
       "      <td>1.0</td>\n",
       "      <td>0.0</td>\n",
       "      <td>1.0</td>\n",
       "      <td>0.0</td>\n",
       "      <td>1.0</td>\n",
       "      <td>0.0</td>\n",
       "      <td>1.0</td>\n",
       "      <td>0.0</td>\n",
       "      <td>1.0</td>\n",
       "      <td>0.0</td>\n",
       "    </tr>\n",
       "    <tr>\n",
       "      <th>...</th>\n",
       "      <td>...</td>\n",
       "      <td>...</td>\n",
       "      <td>...</td>\n",
       "      <td>...</td>\n",
       "      <td>...</td>\n",
       "      <td>...</td>\n",
       "      <td>...</td>\n",
       "      <td>...</td>\n",
       "      <td>...</td>\n",
       "      <td>...</td>\n",
       "      <td>...</td>\n",
       "      <td>...</td>\n",
       "      <td>...</td>\n",
       "      <td>...</td>\n",
       "      <td>...</td>\n",
       "      <td>...</td>\n",
       "      <td>...</td>\n",
       "      <td>...</td>\n",
       "      <td>...</td>\n",
       "      <td>...</td>\n",
       "      <td>...</td>\n",
       "    </tr>\n",
       "    <tr>\n",
       "      <th>133324</th>\n",
       "      <td>0.0</td>\n",
       "      <td>1.0</td>\n",
       "      <td>0.0</td>\n",
       "      <td>0.0</td>\n",
       "      <td>0.0</td>\n",
       "      <td>0.0</td>\n",
       "      <td>0.0</td>\n",
       "      <td>0.0</td>\n",
       "      <td>1.0</td>\n",
       "      <td>0.0</td>\n",
       "      <td>...</td>\n",
       "      <td>1.0</td>\n",
       "      <td>0.0</td>\n",
       "      <td>1.0</td>\n",
       "      <td>0.0</td>\n",
       "      <td>1.0</td>\n",
       "      <td>0.0</td>\n",
       "      <td>1.0</td>\n",
       "      <td>0.0</td>\n",
       "      <td>1.0</td>\n",
       "      <td>0.0</td>\n",
       "    </tr>\n",
       "    <tr>\n",
       "      <th>138718</th>\n",
       "      <td>1.0</td>\n",
       "      <td>0.0</td>\n",
       "      <td>0.0</td>\n",
       "      <td>0.0</td>\n",
       "      <td>1.0</td>\n",
       "      <td>0.0</td>\n",
       "      <td>0.0</td>\n",
       "      <td>0.0</td>\n",
       "      <td>0.0</td>\n",
       "      <td>0.0</td>\n",
       "      <td>...</td>\n",
       "      <td>1.0</td>\n",
       "      <td>0.0</td>\n",
       "      <td>1.0</td>\n",
       "      <td>0.0</td>\n",
       "      <td>1.0</td>\n",
       "      <td>0.0</td>\n",
       "      <td>1.0</td>\n",
       "      <td>0.0</td>\n",
       "      <td>1.0</td>\n",
       "      <td>0.0</td>\n",
       "    </tr>\n",
       "    <tr>\n",
       "      <th>22886</th>\n",
       "      <td>0.0</td>\n",
       "      <td>1.0</td>\n",
       "      <td>0.0</td>\n",
       "      <td>0.0</td>\n",
       "      <td>0.0</td>\n",
       "      <td>1.0</td>\n",
       "      <td>0.0</td>\n",
       "      <td>0.0</td>\n",
       "      <td>0.0</td>\n",
       "      <td>0.0</td>\n",
       "      <td>...</td>\n",
       "      <td>1.0</td>\n",
       "      <td>0.0</td>\n",
       "      <td>1.0</td>\n",
       "      <td>0.0</td>\n",
       "      <td>1.0</td>\n",
       "      <td>0.0</td>\n",
       "      <td>1.0</td>\n",
       "      <td>0.0</td>\n",
       "      <td>1.0</td>\n",
       "      <td>0.0</td>\n",
       "    </tr>\n",
       "    <tr>\n",
       "      <th>137110</th>\n",
       "      <td>0.0</td>\n",
       "      <td>1.0</td>\n",
       "      <td>0.0</td>\n",
       "      <td>0.0</td>\n",
       "      <td>0.0</td>\n",
       "      <td>1.0</td>\n",
       "      <td>0.0</td>\n",
       "      <td>0.0</td>\n",
       "      <td>0.0</td>\n",
       "      <td>1.0</td>\n",
       "      <td>...</td>\n",
       "      <td>1.0</td>\n",
       "      <td>0.0</td>\n",
       "      <td>1.0</td>\n",
       "      <td>0.0</td>\n",
       "      <td>1.0</td>\n",
       "      <td>0.0</td>\n",
       "      <td>1.0</td>\n",
       "      <td>0.0</td>\n",
       "      <td>1.0</td>\n",
       "      <td>0.0</td>\n",
       "    </tr>\n",
       "    <tr>\n",
       "      <th>515193</th>\n",
       "      <td>1.0</td>\n",
       "      <td>0.0</td>\n",
       "      <td>1.0</td>\n",
       "      <td>0.0</td>\n",
       "      <td>0.0</td>\n",
       "      <td>0.0</td>\n",
       "      <td>0.0</td>\n",
       "      <td>0.0</td>\n",
       "      <td>0.0</td>\n",
       "      <td>0.0</td>\n",
       "      <td>...</td>\n",
       "      <td>1.0</td>\n",
       "      <td>0.0</td>\n",
       "      <td>1.0</td>\n",
       "      <td>0.0</td>\n",
       "      <td>1.0</td>\n",
       "      <td>0.0</td>\n",
       "      <td>1.0</td>\n",
       "      <td>0.0</td>\n",
       "      <td>1.0</td>\n",
       "      <td>0.0</td>\n",
       "    </tr>\n",
       "  </tbody>\n",
       "</table>\n",
       "<p>110014 rows × 104 columns</p>\n",
       "</div>"
      ],
      "text/plain": [
       "        0    1    2    3    4    5    6    7    8    9    ...  94   95   96   \\\n",
       "84432   0.0  1.0  0.0  0.0  0.0  0.0  0.0  1.0  0.0  0.0  ...  1.0  0.0  1.0   \n",
       "72724   1.0  0.0  0.0  0.0  0.0  1.0  0.0  0.0  0.0  0.0  ...  1.0  0.0  1.0   \n",
       "197032  1.0  0.0  0.0  0.0  0.0  1.0  0.0  0.0  0.0  0.0  ...  1.0  0.0  1.0   \n",
       "353704  0.0  1.0  0.0  1.0  0.0  0.0  0.0  0.0  0.0  0.0  ...  1.0  0.0  1.0   \n",
       "91198   0.0  1.0  0.0  1.0  0.0  0.0  0.0  0.0  0.0  1.0  ...  1.0  0.0  1.0   \n",
       "...     ...  ...  ...  ...  ...  ...  ...  ...  ...  ...  ...  ...  ...  ...   \n",
       "133324  0.0  1.0  0.0  0.0  0.0  0.0  0.0  0.0  1.0  0.0  ...  1.0  0.0  1.0   \n",
       "138718  1.0  0.0  0.0  0.0  1.0  0.0  0.0  0.0  0.0  0.0  ...  1.0  0.0  1.0   \n",
       "22886   0.0  1.0  0.0  0.0  0.0  1.0  0.0  0.0  0.0  0.0  ...  1.0  0.0  1.0   \n",
       "137110  0.0  1.0  0.0  0.0  0.0  1.0  0.0  0.0  0.0  1.0  ...  1.0  0.0  1.0   \n",
       "515193  1.0  0.0  1.0  0.0  0.0  0.0  0.0  0.0  0.0  0.0  ...  1.0  0.0  1.0   \n",
       "\n",
       "        97   98   99   100  101  102  103  \n",
       "84432   0.0  1.0  0.0  1.0  0.0  1.0  0.0  \n",
       "72724   0.0  1.0  0.0  1.0  0.0  1.0  0.0  \n",
       "197032  0.0  1.0  0.0  1.0  0.0  1.0  0.0  \n",
       "353704  0.0  1.0  0.0  1.0  0.0  1.0  0.0  \n",
       "91198   0.0  1.0  0.0  1.0  0.0  1.0  0.0  \n",
       "...     ...  ...  ...  ...  ...  ...  ...  \n",
       "133324  0.0  1.0  0.0  1.0  0.0  1.0  0.0  \n",
       "138718  0.0  1.0  0.0  1.0  0.0  1.0  0.0  \n",
       "22886   0.0  1.0  0.0  1.0  0.0  1.0  0.0  \n",
       "137110  0.0  1.0  0.0  1.0  0.0  1.0  0.0  \n",
       "515193  0.0  1.0  0.0  1.0  0.0  1.0  0.0  \n",
       "\n",
       "[110014 rows x 104 columns]"
      ]
     },
     "execution_count": 33,
     "metadata": {},
     "output_type": "execute_result"
    }
   ],
   "source": [
    "X_test"
   ]
  },
  {
   "cell_type": "code",
   "execution_count": 34,
   "id": "c900e404",
   "metadata": {
    "execution": {
     "iopub.execute_input": "2024-06-15T07:27:54.340700Z",
     "iopub.status.busy": "2024-06-15T07:27:54.339937Z",
     "iopub.status.idle": "2024-06-15T07:27:59.307570Z",
     "shell.execute_reply": "2024-06-15T07:27:59.306489Z"
    },
    "papermill": {
     "duration": 4.992138,
     "end_time": "2024-06-15T07:27:59.310399",
     "exception": false,
     "start_time": "2024-06-15T07:27:54.318261",
     "status": "completed"
    },
    "tags": []
   },
   "outputs": [
    {
     "data": {
      "text/html": [
       "<style>#sk-container-id-1 {color: black;background-color: white;}#sk-container-id-1 pre{padding: 0;}#sk-container-id-1 div.sk-toggleable {background-color: white;}#sk-container-id-1 label.sk-toggleable__label {cursor: pointer;display: block;width: 100%;margin-bottom: 0;padding: 0.3em;box-sizing: border-box;text-align: center;}#sk-container-id-1 label.sk-toggleable__label-arrow:before {content: \"▸\";float: left;margin-right: 0.25em;color: #696969;}#sk-container-id-1 label.sk-toggleable__label-arrow:hover:before {color: black;}#sk-container-id-1 div.sk-estimator:hover label.sk-toggleable__label-arrow:before {color: black;}#sk-container-id-1 div.sk-toggleable__content {max-height: 0;max-width: 0;overflow: hidden;text-align: left;background-color: #f0f8ff;}#sk-container-id-1 div.sk-toggleable__content pre {margin: 0.2em;color: black;border-radius: 0.25em;background-color: #f0f8ff;}#sk-container-id-1 input.sk-toggleable__control:checked~div.sk-toggleable__content {max-height: 200px;max-width: 100%;overflow: auto;}#sk-container-id-1 input.sk-toggleable__control:checked~label.sk-toggleable__label-arrow:before {content: \"▾\";}#sk-container-id-1 div.sk-estimator input.sk-toggleable__control:checked~label.sk-toggleable__label {background-color: #d4ebff;}#sk-container-id-1 div.sk-label input.sk-toggleable__control:checked~label.sk-toggleable__label {background-color: #d4ebff;}#sk-container-id-1 input.sk-hidden--visually {border: 0;clip: rect(1px 1px 1px 1px);clip: rect(1px, 1px, 1px, 1px);height: 1px;margin: -1px;overflow: hidden;padding: 0;position: absolute;width: 1px;}#sk-container-id-1 div.sk-estimator {font-family: monospace;background-color: #f0f8ff;border: 1px dotted black;border-radius: 0.25em;box-sizing: border-box;margin-bottom: 0.5em;}#sk-container-id-1 div.sk-estimator:hover {background-color: #d4ebff;}#sk-container-id-1 div.sk-parallel-item::after {content: \"\";width: 100%;border-bottom: 1px solid gray;flex-grow: 1;}#sk-container-id-1 div.sk-label:hover label.sk-toggleable__label {background-color: #d4ebff;}#sk-container-id-1 div.sk-serial::before {content: \"\";position: absolute;border-left: 1px solid gray;box-sizing: border-box;top: 0;bottom: 0;left: 50%;z-index: 0;}#sk-container-id-1 div.sk-serial {display: flex;flex-direction: column;align-items: center;background-color: white;padding-right: 0.2em;padding-left: 0.2em;position: relative;}#sk-container-id-1 div.sk-item {position: relative;z-index: 1;}#sk-container-id-1 div.sk-parallel {display: flex;align-items: stretch;justify-content: center;background-color: white;position: relative;}#sk-container-id-1 div.sk-item::before, #sk-container-id-1 div.sk-parallel-item::before {content: \"\";position: absolute;border-left: 1px solid gray;box-sizing: border-box;top: 0;bottom: 0;left: 50%;z-index: -1;}#sk-container-id-1 div.sk-parallel-item {display: flex;flex-direction: column;z-index: 1;position: relative;background-color: white;}#sk-container-id-1 div.sk-parallel-item:first-child::after {align-self: flex-end;width: 50%;}#sk-container-id-1 div.sk-parallel-item:last-child::after {align-self: flex-start;width: 50%;}#sk-container-id-1 div.sk-parallel-item:only-child::after {width: 0;}#sk-container-id-1 div.sk-dashed-wrapped {border: 1px dashed gray;margin: 0 0.4em 0.5em 0.4em;box-sizing: border-box;padding-bottom: 0.4em;background-color: white;}#sk-container-id-1 div.sk-label label {font-family: monospace;font-weight: bold;display: inline-block;line-height: 1.2em;}#sk-container-id-1 div.sk-label-container {text-align: center;}#sk-container-id-1 div.sk-container {/* jupyter's `normalize.less` sets `[hidden] { display: none; }` but bootstrap.min.css set `[hidden] { display: none !important; }` so we also need the `!important` here to be able to override the default hidden behavior on the sphinx rendered scikit-learn.org. See: https://github.com/scikit-learn/scikit-learn/issues/21755 */display: inline-block !important;position: relative;}#sk-container-id-1 div.sk-text-repr-fallback {display: none;}</style><div id=\"sk-container-id-1\" class=\"sk-top-container\"><div class=\"sk-text-repr-fallback\"><pre>Pipeline(steps=[(&#x27;regressor&#x27;, LinearRegression())])</pre><b>In a Jupyter environment, please rerun this cell to show the HTML representation or trust the notebook. <br />On GitHub, the HTML representation is unable to render, please try loading this page with nbviewer.org.</b></div><div class=\"sk-container\" hidden><div class=\"sk-item sk-dashed-wrapped\"><div class=\"sk-label-container\"><div class=\"sk-label sk-toggleable\"><input class=\"sk-toggleable__control sk-hidden--visually\" id=\"sk-estimator-id-1\" type=\"checkbox\" ><label for=\"sk-estimator-id-1\" class=\"sk-toggleable__label sk-toggleable__label-arrow\">Pipeline</label><div class=\"sk-toggleable__content\"><pre>Pipeline(steps=[(&#x27;regressor&#x27;, LinearRegression())])</pre></div></div></div><div class=\"sk-serial\"><div class=\"sk-item\"><div class=\"sk-estimator sk-toggleable\"><input class=\"sk-toggleable__control sk-hidden--visually\" id=\"sk-estimator-id-2\" type=\"checkbox\" ><label for=\"sk-estimator-id-2\" class=\"sk-toggleable__label sk-toggleable__label-arrow\">LinearRegression</label><div class=\"sk-toggleable__content\"><pre>LinearRegression()</pre></div></div></div></div></div></div></div>"
      ],
      "text/plain": [
       "Pipeline(steps=[('regressor', LinearRegression())])"
      ]
     },
     "execution_count": 34,
     "metadata": {},
     "output_type": "execute_result"
    }
   ],
   "source": [
    "pipeline1 = Pipeline([\n",
    "    ('regressor', LinearRegression())\n",
    "])\n",
    "pipeline1.fit(X_train, y_train)\n",
    "pipeline1.fit(X_test, y_test)"
   ]
  },
  {
   "cell_type": "code",
   "execution_count": 35,
   "id": "4a5fdbbd",
   "metadata": {
    "execution": {
     "iopub.execute_input": "2024-06-15T07:27:59.385367Z",
     "iopub.status.busy": "2024-06-15T07:27:59.384807Z",
     "iopub.status.idle": "2024-06-15T07:27:59.458195Z",
     "shell.execute_reply": "2024-06-15T07:27:59.457131Z"
    },
    "papermill": {
     "duration": 0.114478,
     "end_time": "2024-06-15T07:27:59.461330",
     "exception": false,
     "start_time": "2024-06-15T07:27:59.346852",
     "status": "completed"
    },
    "tags": []
   },
   "outputs": [
    {
     "name": "stdout",
     "output_type": "stream",
     "text": [
      "Linear Regression on trained data:  0.6412349503719417\n"
     ]
    }
   ],
   "source": [
    "train = pipeline1.score(X_train, y_train)\n",
    "print('Linear Regression on trained data: ', train)"
   ]
  },
  {
   "cell_type": "code",
   "execution_count": 36,
   "id": "2a4f8115",
   "metadata": {
    "execution": {
     "iopub.execute_input": "2024-06-15T07:27:59.535733Z",
     "iopub.status.busy": "2024-06-15T07:27:59.535234Z",
     "iopub.status.idle": "2024-06-15T07:27:59.565602Z",
     "shell.execute_reply": "2024-06-15T07:27:59.564533Z"
    },
    "papermill": {
     "duration": 0.070498,
     "end_time": "2024-06-15T07:27:59.568241",
     "exception": false,
     "start_time": "2024-06-15T07:27:59.497743",
     "status": "completed"
    },
    "tags": []
   },
   "outputs": [
    {
     "name": "stdout",
     "output_type": "stream",
     "text": [
      "Linear Regression on test data:  0.6339638368146279\n"
     ]
    }
   ],
   "source": [
    "test = pipeline1.score(X_test, y_test)\n",
    "print('Linear Regression on test data: ', test)"
   ]
  },
  {
   "cell_type": "code",
   "execution_count": 37,
   "id": "daf072dc",
   "metadata": {
    "execution": {
     "iopub.execute_input": "2024-06-15T07:27:59.641609Z",
     "iopub.status.busy": "2024-06-15T07:27:59.641085Z",
     "iopub.status.idle": "2024-06-15T07:28:08.575616Z",
     "shell.execute_reply": "2024-06-15T07:28:08.574566Z"
    },
    "papermill": {
     "duration": 8.973903,
     "end_time": "2024-06-15T07:28:08.577939",
     "exception": false,
     "start_time": "2024-06-15T07:27:59.604036",
     "status": "completed"
    },
    "tags": []
   },
   "outputs": [
    {
     "data": {
      "text/html": [
       "<style>#sk-container-id-2 {color: black;background-color: white;}#sk-container-id-2 pre{padding: 0;}#sk-container-id-2 div.sk-toggleable {background-color: white;}#sk-container-id-2 label.sk-toggleable__label {cursor: pointer;display: block;width: 100%;margin-bottom: 0;padding: 0.3em;box-sizing: border-box;text-align: center;}#sk-container-id-2 label.sk-toggleable__label-arrow:before {content: \"▸\";float: left;margin-right: 0.25em;color: #696969;}#sk-container-id-2 label.sk-toggleable__label-arrow:hover:before {color: black;}#sk-container-id-2 div.sk-estimator:hover label.sk-toggleable__label-arrow:before {color: black;}#sk-container-id-2 div.sk-toggleable__content {max-height: 0;max-width: 0;overflow: hidden;text-align: left;background-color: #f0f8ff;}#sk-container-id-2 div.sk-toggleable__content pre {margin: 0.2em;color: black;border-radius: 0.25em;background-color: #f0f8ff;}#sk-container-id-2 input.sk-toggleable__control:checked~div.sk-toggleable__content {max-height: 200px;max-width: 100%;overflow: auto;}#sk-container-id-2 input.sk-toggleable__control:checked~label.sk-toggleable__label-arrow:before {content: \"▾\";}#sk-container-id-2 div.sk-estimator input.sk-toggleable__control:checked~label.sk-toggleable__label {background-color: #d4ebff;}#sk-container-id-2 div.sk-label input.sk-toggleable__control:checked~label.sk-toggleable__label {background-color: #d4ebff;}#sk-container-id-2 input.sk-hidden--visually {border: 0;clip: rect(1px 1px 1px 1px);clip: rect(1px, 1px, 1px, 1px);height: 1px;margin: -1px;overflow: hidden;padding: 0;position: absolute;width: 1px;}#sk-container-id-2 div.sk-estimator {font-family: monospace;background-color: #f0f8ff;border: 1px dotted black;border-radius: 0.25em;box-sizing: border-box;margin-bottom: 0.5em;}#sk-container-id-2 div.sk-estimator:hover {background-color: #d4ebff;}#sk-container-id-2 div.sk-parallel-item::after {content: \"\";width: 100%;border-bottom: 1px solid gray;flex-grow: 1;}#sk-container-id-2 div.sk-label:hover label.sk-toggleable__label {background-color: #d4ebff;}#sk-container-id-2 div.sk-serial::before {content: \"\";position: absolute;border-left: 1px solid gray;box-sizing: border-box;top: 0;bottom: 0;left: 50%;z-index: 0;}#sk-container-id-2 div.sk-serial {display: flex;flex-direction: column;align-items: center;background-color: white;padding-right: 0.2em;padding-left: 0.2em;position: relative;}#sk-container-id-2 div.sk-item {position: relative;z-index: 1;}#sk-container-id-2 div.sk-parallel {display: flex;align-items: stretch;justify-content: center;background-color: white;position: relative;}#sk-container-id-2 div.sk-item::before, #sk-container-id-2 div.sk-parallel-item::before {content: \"\";position: absolute;border-left: 1px solid gray;box-sizing: border-box;top: 0;bottom: 0;left: 50%;z-index: -1;}#sk-container-id-2 div.sk-parallel-item {display: flex;flex-direction: column;z-index: 1;position: relative;background-color: white;}#sk-container-id-2 div.sk-parallel-item:first-child::after {align-self: flex-end;width: 50%;}#sk-container-id-2 div.sk-parallel-item:last-child::after {align-self: flex-start;width: 50%;}#sk-container-id-2 div.sk-parallel-item:only-child::after {width: 0;}#sk-container-id-2 div.sk-dashed-wrapped {border: 1px dashed gray;margin: 0 0.4em 0.5em 0.4em;box-sizing: border-box;padding-bottom: 0.4em;background-color: white;}#sk-container-id-2 div.sk-label label {font-family: monospace;font-weight: bold;display: inline-block;line-height: 1.2em;}#sk-container-id-2 div.sk-label-container {text-align: center;}#sk-container-id-2 div.sk-container {/* jupyter's `normalize.less` sets `[hidden] { display: none; }` but bootstrap.min.css set `[hidden] { display: none !important; }` so we also need the `!important` here to be able to override the default hidden behavior on the sphinx rendered scikit-learn.org. See: https://github.com/scikit-learn/scikit-learn/issues/21755 */display: inline-block !important;position: relative;}#sk-container-id-2 div.sk-text-repr-fallback {display: none;}</style><div id=\"sk-container-id-2\" class=\"sk-top-container\"><div class=\"sk-text-repr-fallback\"><pre>Pipeline(steps=[(&#x27;regressor&#x27;, DecisionTreeRegressor())])</pre><b>In a Jupyter environment, please rerun this cell to show the HTML representation or trust the notebook. <br />On GitHub, the HTML representation is unable to render, please try loading this page with nbviewer.org.</b></div><div class=\"sk-container\" hidden><div class=\"sk-item sk-dashed-wrapped\"><div class=\"sk-label-container\"><div class=\"sk-label sk-toggleable\"><input class=\"sk-toggleable__control sk-hidden--visually\" id=\"sk-estimator-id-3\" type=\"checkbox\" ><label for=\"sk-estimator-id-3\" class=\"sk-toggleable__label sk-toggleable__label-arrow\">Pipeline</label><div class=\"sk-toggleable__content\"><pre>Pipeline(steps=[(&#x27;regressor&#x27;, DecisionTreeRegressor())])</pre></div></div></div><div class=\"sk-serial\"><div class=\"sk-item\"><div class=\"sk-estimator sk-toggleable\"><input class=\"sk-toggleable__control sk-hidden--visually\" id=\"sk-estimator-id-4\" type=\"checkbox\" ><label for=\"sk-estimator-id-4\" class=\"sk-toggleable__label sk-toggleable__label-arrow\">DecisionTreeRegressor</label><div class=\"sk-toggleable__content\"><pre>DecisionTreeRegressor()</pre></div></div></div></div></div></div></div>"
      ],
      "text/plain": [
       "Pipeline(steps=[('regressor', DecisionTreeRegressor())])"
      ]
     },
     "execution_count": 37,
     "metadata": {},
     "output_type": "execute_result"
    }
   ],
   "source": [
    "pipeline2 = Pipeline([\n",
    "    ('regressor', DecisionTreeRegressor())\n",
    "])\n",
    "pipeline2.fit(X_train, y_train)\n",
    "pipeline2.fit(X_test, y_test)"
   ]
  },
  {
   "cell_type": "code",
   "execution_count": 38,
   "id": "e482707c",
   "metadata": {
    "execution": {
     "iopub.execute_input": "2024-06-15T07:28:08.623489Z",
     "iopub.status.busy": "2024-06-15T07:28:08.622569Z",
     "iopub.status.idle": "2024-06-15T07:28:08.844537Z",
     "shell.execute_reply": "2024-06-15T07:28:08.843552Z"
    },
    "papermill": {
     "duration": 0.247202,
     "end_time": "2024-06-15T07:28:08.846802",
     "exception": false,
     "start_time": "2024-06-15T07:28:08.599600",
     "status": "completed"
    },
    "tags": []
   },
   "outputs": [
    {
     "name": "stdout",
     "output_type": "stream",
     "text": [
      "Decision Tree Regressor on trained data:  0.6075375881518854\n"
     ]
    }
   ],
   "source": [
    "train = pipeline2.score(X_train, y_train)\n",
    "print('Decision Tree Regressor on trained data: ', train)"
   ]
  },
  {
   "cell_type": "code",
   "execution_count": 39,
   "id": "b8376670",
   "metadata": {
    "execution": {
     "iopub.execute_input": "2024-06-15T07:28:08.890785Z",
     "iopub.status.busy": "2024-06-15T07:28:08.889916Z",
     "iopub.status.idle": "2024-06-15T07:28:08.954493Z",
     "shell.execute_reply": "2024-06-15T07:28:08.953464Z"
    },
    "papermill": {
     "duration": 0.088798,
     "end_time": "2024-06-15T07:28:08.956631",
     "exception": false,
     "start_time": "2024-06-15T07:28:08.867833",
     "status": "completed"
    },
    "tags": []
   },
   "outputs": [
    {
     "name": "stdout",
     "output_type": "stream",
     "text": [
      "R^2 Score: 0.7245386549958128\n"
     ]
    }
   ],
   "source": [
    "from sklearn.metrics import r2_score \n",
    "y_pred = pipeline2.predict(X_test)\n",
    "score = r2_score(y_test, y_pred)\n",
    "print(f'R^2 Score: {score}')"
   ]
  }
 ],
 "metadata": {
  "kaggle": {
   "accelerator": "none",
   "dataSources": [
    {
     "datasetId": 5115691,
     "sourceId": 8559093,
     "sourceType": "datasetVersion"
    }
   ],
   "dockerImageVersionId": 30732,
   "isGpuEnabled": false,
   "isInternetEnabled": true,
   "language": "python",
   "sourceType": "notebook"
  },
  "kernelspec": {
   "display_name": "Python 3 (ipykernel)",
   "language": "python",
   "name": "python3"
  },
  "language_info": {
   "codemirror_mode": {
    "name": "ipython",
    "version": 3
   },
   "file_extension": ".py",
   "mimetype": "text/x-python",
   "name": "python",
   "nbconvert_exporter": "python",
   "pygments_lexer": "ipython3",
   "version": "3.11.7"
  },
  "papermill": {
   "default_parameters": {},
   "duration": 38.451897,
   "end_time": "2024-06-15T07:28:09.597592",
   "environment_variables": {},
   "exception": null,
   "input_path": "__notebook__.ipynb",
   "output_path": "__notebook__.ipynb",
   "parameters": {},
   "start_time": "2024-06-15T07:27:31.145695",
   "version": "2.5.0"
  }
 },
 "nbformat": 4,
 "nbformat_minor": 5
}
